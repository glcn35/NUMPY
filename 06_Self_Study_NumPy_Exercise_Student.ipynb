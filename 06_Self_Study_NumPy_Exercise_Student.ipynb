{
  "cells": [
    {
      "cell_type": "markdown",
      "metadata": {
        "id": "view-in-github",
        "colab_type": "text"
      },
      "source": [
        "<a href=\"https://colab.research.google.com/github/glcn35/NUMPY/blob/main/06_Self_Study_NumPy_Exercise_Student.ipynb\" target=\"_parent\"><img src=\"https://colab.research.google.com/assets/colab-badge.svg\" alt=\"Open In Colab\"/></a>"
      ]
    },
    {
      "cell_type": "markdown",
      "metadata": {
        "id": "Z_QxtNDUx_oc"
      },
      "source": [
        "# NumPy Çalışma"
      ]
    },
    {
      "cell_type": "markdown",
      "metadata": {
        "id": "caOijrlKx_oi"
      },
      "source": [
        "### NumPy Array'i Oluşturmak"
      ]
    },
    {
      "cell_type": "code",
      "execution_count": 1,
      "metadata": {
        "id": "htqbBy3Fx_oj"
      },
      "outputs": [],
      "source": [
        "import numpy as np"
      ]
    },
    {
      "cell_type": "code",
      "execution_count": 2,
      "metadata": {
        "colab": {
          "base_uri": "https://localhost:8080/",
          "height": 35
        },
        "id": "_Q57f6n9x_ol",
        "outputId": "d3669a58-f3d7-42f9-e970-1d6e7e41ebef"
      },
      "outputs": [
        {
          "output_type": "execute_result",
          "data": {
            "application/vnd.google.colaboratory.intrinsic+json": {
              "type": "string"
            },
            "text/plain": [
              "'1.21.5'"
            ]
          },
          "metadata": {},
          "execution_count": 2
        }
      ],
      "source": [
        "np.__version__"
      ]
    },
    {
      "cell_type": "code",
      "execution_count": 3,
      "metadata": {
        "colab": {
          "base_uri": "https://localhost:8080/"
        },
        "id": "k5ZPrVVex_om",
        "outputId": "b1f8049e-8e3d-4523-c790-72ee37788a5c"
      },
      "outputs": [
        {
          "output_type": "execute_result",
          "data": {
            "text/plain": [
              "array([1, 2, 3, 4, 5])"
            ]
          },
          "metadata": {},
          "execution_count": 3
        }
      ],
      "source": [
        "# code here\n",
        "np.array(range(1,6))"
      ]
    },
    {
      "cell_type": "code",
      "execution_count": null,
      "metadata": {
        "id": "4PpcJKZUx_on",
        "outputId": "c1a73f26-9a4f-4d93-bfa9-7f70fceb3a4c"
      },
      "outputs": [
        {
          "data": {
            "text/plain": [
              "array([1, 2, 3, 4, 5])"
            ]
          },
          "execution_count": 127,
          "metadata": {},
          "output_type": "execute_result"
        }
      ],
      "source": [
        ""
      ]
    },
    {
      "cell_type": "code",
      "execution_count": null,
      "metadata": {
        "id": "b6y25s6ix_on",
        "outputId": "bad389a0-febf-416f-8110-450771564712"
      },
      "outputs": [
        {
          "data": {
            "text/plain": [
              "numpy.ndarray"
            ]
          },
          "execution_count": 16,
          "metadata": {},
          "output_type": "execute_result"
        }
      ],
      "source": [
        "a = np.array([1,2,3,4,5])\n",
        "type(a)"
      ]
    },
    {
      "cell_type": "code",
      "execution_count": 4,
      "metadata": {
        "colab": {
          "base_uri": "https://localhost:8080/"
        },
        "id": "2aAWJGmvx_oo",
        "outputId": "28c2d041-ebed-456b-ecd4-0b53feb3b9e1"
      },
      "outputs": [
        {
          "output_type": "execute_result",
          "data": {
            "text/plain": [
              "array([ 3,  4,  2, 13])"
            ]
          },
          "metadata": {},
          "execution_count": 4
        }
      ],
      "source": [
        "np.array([3.14, 4, 2, 13], dtype = \"int\")"
      ]
    },
    {
      "cell_type": "code",
      "execution_count": 5,
      "metadata": {
        "colab": {
          "base_uri": "https://localhost:8080/"
        },
        "id": "2X5KxUewx_op",
        "outputId": "ed68a7fd-9c05-4244-c537-3940ac743952"
      },
      "outputs": [
        {
          "output_type": "execute_result",
          "data": {
            "text/plain": [
              "array([ 3.14,  4.  ,  2.  , 13.  ])"
            ]
          },
          "metadata": {},
          "execution_count": 5
        }
      ],
      "source": [
        "np.array([3.14, 4, 2, 13], dtype = \"float\")"
      ]
    },
    {
      "cell_type": "code",
      "execution_count": null,
      "metadata": {
        "id": "FBHq1U2Ux_op"
      },
      "outputs": [],
      "source": [
        "# sifirdan array olusturma (np.zeros)"
      ]
    },
    {
      "cell_type": "code",
      "execution_count": 7,
      "metadata": {
        "colab": {
          "base_uri": "https://localhost:8080/"
        },
        "id": "8DTZoVOSx_oq",
        "outputId": "7931e65a-aad7-428c-fcea-d2bd718a6819"
      },
      "outputs": [
        {
          "output_type": "execute_result",
          "data": {
            "text/plain": [
              "array([0, 0, 0, 0, 0, 0, 0, 0])"
            ]
          },
          "metadata": {},
          "execution_count": 7
        }
      ],
      "source": [
        "# code here\n",
        "np.zeros(8,dtype=int)"
      ]
    },
    {
      "cell_type": "code",
      "execution_count": null,
      "metadata": {
        "id": "VrR5bSTqx_oq",
        "outputId": "a8311b0f-6c2b-49ac-a1cc-b2d01575f8a3"
      },
      "outputs": [
        {
          "data": {
            "text/plain": [
              "array([0, 0, 0, 0, 0, 0, 0, 0, 0, 0])"
            ]
          },
          "execution_count": 20,
          "metadata": {},
          "output_type": "execute_result"
        }
      ],
      "source": [
        ""
      ]
    },
    {
      "cell_type": "code",
      "execution_count": 8,
      "metadata": {
        "colab": {
          "base_uri": "https://localhost:8080/"
        },
        "id": "qEg62-z0x_or",
        "outputId": "412b953c-cf8d-4204-ce07-89ee630aa0bd"
      },
      "outputs": [
        {
          "output_type": "execute_result",
          "data": {
            "text/plain": [
              "array([0., 0., 0., 0., 0., 0., 0., 0., 0., 0.])"
            ]
          },
          "metadata": {},
          "execution_count": 8
        }
      ],
      "source": [
        "# code here\n",
        "np.zeros(10)"
      ]
    },
    {
      "cell_type": "code",
      "execution_count": null,
      "metadata": {
        "id": "0Ur1IfbZx_os",
        "outputId": "a0fde565-3535-4574-c0e1-ec8592c5fa19"
      },
      "outputs": [
        {
          "data": {
            "text/plain": [
              "array([0., 0., 0., 0., 0., 0., 0., 0., 0., 0.])"
            ]
          },
          "execution_count": 21,
          "metadata": {},
          "output_type": "execute_result"
        }
      ],
      "source": [
        ""
      ]
    },
    {
      "cell_type": "code",
      "execution_count": null,
      "metadata": {
        "id": "E6nOiC9px_ot"
      },
      "outputs": [],
      "source": [
        "# birlerden array olusturma (np.ones)"
      ]
    },
    {
      "cell_type": "code",
      "execution_count": 10,
      "metadata": {
        "colab": {
          "base_uri": "https://localhost:8080/"
        },
        "id": "rsHV0Jcsx_ot",
        "outputId": "16cfe25d-061c-44f9-d952-f78913110dbd"
      },
      "outputs": [
        {
          "output_type": "execute_result",
          "data": {
            "text/plain": [
              "array([[1, 1, 1, 1, 1],\n",
              "       [1, 1, 1, 1, 1],\n",
              "       [1, 1, 1, 1, 1]])"
            ]
          },
          "metadata": {},
          "execution_count": 10
        }
      ],
      "source": [
        "# code here\n",
        "np.ones((3,5),dtype=int)"
      ]
    },
    {
      "cell_type": "code",
      "execution_count": null,
      "metadata": {
        "id": "S7hPv2fqx_ou",
        "outputId": "678184e2-9f01-4983-d703-d87dd08f8edc"
      },
      "outputs": [
        {
          "data": {
            "text/plain": [
              "array([[1, 1, 1, 1, 1],\n",
              "       [1, 1, 1, 1, 1],\n",
              "       [1, 1, 1, 1, 1]])"
            ]
          },
          "execution_count": 133,
          "metadata": {},
          "output_type": "execute_result"
        }
      ],
      "source": [
        ""
      ]
    },
    {
      "cell_type": "code",
      "execution_count": 14,
      "metadata": {
        "colab": {
          "base_uri": "https://localhost:8080/"
        },
        "id": "tgEAMZd6x_ou",
        "outputId": "d2042de1-f6e6-4ba7-a73a-ab37b87346af"
      },
      "outputs": [
        {
          "output_type": "execute_result",
          "data": {
            "text/plain": [
              "array([1., 1., 1., 1., 1., 1., 1., 1., 1., 1.])"
            ]
          },
          "metadata": {},
          "execution_count": 14
        }
      ],
      "source": [
        "# code here\n",
        "#np.ones((1,10))\n",
        "np.ones(10)"
      ]
    },
    {
      "cell_type": "code",
      "execution_count": null,
      "metadata": {
        "id": "0VVQvKc9x_ov",
        "outputId": "800a1270-4de4-4db8-e275-20e41528f76e"
      },
      "outputs": [
        {
          "data": {
            "text/plain": [
              "array([1., 1., 1., 1., 1., 1., 1., 1., 1., 1.])"
            ]
          },
          "execution_count": 23,
          "metadata": {},
          "output_type": "execute_result"
        }
      ],
      "source": [
        ""
      ]
    },
    {
      "cell_type": "code",
      "execution_count": null,
      "metadata": {
        "id": "0DbksVbZx_ov"
      },
      "outputs": [],
      "source": [
        "# belirlenen değerler ile doldurma (np.full)"
      ]
    },
    {
      "cell_type": "code",
      "execution_count": 16,
      "metadata": {
        "colab": {
          "base_uri": "https://localhost:8080/"
        },
        "id": "w7ITjp1bx_ov",
        "outputId": "ef7c76a0-098a-483e-d42c-6cd86058c7ca"
      },
      "outputs": [
        {
          "output_type": "execute_result",
          "data": {
            "text/plain": [
              "array([[3., 3., 3., 3., 3.],\n",
              "       [3., 3., 3., 3., 3.],\n",
              "       [3., 3., 3., 3., 3.]])"
            ]
          },
          "metadata": {},
          "execution_count": 16
        }
      ],
      "source": [
        "# code here\n",
        "np.ones((3,5))*3"
      ]
    },
    {
      "cell_type": "code",
      "source": [
        "np.full((3,5),3)"
      ],
      "metadata": {
        "colab": {
          "base_uri": "https://localhost:8080/"
        },
        "id": "TZPhSAixy9tM",
        "outputId": "1a0ce531-b819-4976-b865-2befbd92c87c"
      },
      "execution_count": 17,
      "outputs": [
        {
          "output_type": "execute_result",
          "data": {
            "text/plain": [
              "array([[3, 3, 3, 3, 3],\n",
              "       [3, 3, 3, 3, 3],\n",
              "       [3, 3, 3, 3, 3]])"
            ]
          },
          "metadata": {},
          "execution_count": 17
        }
      ]
    },
    {
      "cell_type": "code",
      "source": [
        "np.full((3,5),3,dtype=float)"
      ],
      "metadata": {
        "colab": {
          "base_uri": "https://localhost:8080/"
        },
        "id": "24mk12Q4zLG_",
        "outputId": "0c9f9f98-c883-4942-d055-7cf5cdb7ec5c"
      },
      "execution_count": 18,
      "outputs": [
        {
          "output_type": "execute_result",
          "data": {
            "text/plain": [
              "array([[3., 3., 3., 3., 3.],\n",
              "       [3., 3., 3., 3., 3.],\n",
              "       [3., 3., 3., 3., 3.]])"
            ]
          },
          "metadata": {},
          "execution_count": 18
        }
      ]
    },
    {
      "cell_type": "code",
      "execution_count": null,
      "metadata": {
        "id": "_wtgI1pyx_ow",
        "outputId": "aa9baae9-d7dd-45c4-c967-212c06b7605d"
      },
      "outputs": [
        {
          "data": {
            "text/plain": [
              "array([[3., 3., 3., 3., 3.],\n",
              "       [3., 3., 3., 3., 3.],\n",
              "       [3., 3., 3., 3., 3.]])"
            ]
          },
          "execution_count": 26,
          "metadata": {},
          "output_type": "execute_result"
        }
      ],
      "source": [
        ""
      ]
    },
    {
      "cell_type": "code",
      "execution_count": 21,
      "metadata": {
        "colab": {
          "base_uri": "https://localhost:8080/"
        },
        "id": "L_NysjQ_x_ow",
        "outputId": "0b30a848-318a-49a6-b177-c9bd8e041233"
      },
      "outputs": [
        {
          "output_type": "execute_result",
          "data": {
            "text/plain": [
              "array([ 0,  3,  6,  9, 12, 15, 18, 21, 24, 27, 30])"
            ]
          },
          "metadata": {},
          "execution_count": 21
        }
      ],
      "source": [
        "# code here (arange)\n",
        "np.arange(0,31,3)"
      ]
    },
    {
      "cell_type": "code",
      "execution_count": null,
      "metadata": {
        "id": "QFM4U3Y9x_ow",
        "outputId": "d908ca5e-dc85-4fbc-ad74-cc2fea68debe"
      },
      "outputs": [
        {
          "data": {
            "text/plain": [
              "array([ 0,  3,  6,  9, 12, 15, 18, 21, 24, 27, 30])"
            ]
          },
          "execution_count": 135,
          "metadata": {},
          "output_type": "execute_result"
        }
      ],
      "source": [
        ""
      ]
    },
    {
      "cell_type": "code",
      "execution_count": 23,
      "metadata": {
        "colab": {
          "base_uri": "https://localhost:8080/"
        },
        "id": "JsayEu8jx_ow",
        "outputId": "e041a0ba-5aa2-4c59-bfad-c5210c56e2a3"
      },
      "outputs": [
        {
          "output_type": "execute_result",
          "data": {
            "text/plain": [
              "array([0.        , 0.11111111, 0.22222222, 0.33333333, 0.44444444,\n",
              "       0.55555556, 0.66666667, 0.77777778, 0.88888889, 1.        ])"
            ]
          },
          "metadata": {},
          "execution_count": 23
        }
      ],
      "source": [
        "# code here (linspace)\n",
        "np.linspace(0,1,10)"
      ]
    },
    {
      "cell_type": "code",
      "execution_count": null,
      "metadata": {
        "id": "hVUALGAvx_ox",
        "outputId": "8c016b32-f555-4c37-c598-3bd1ed77365a"
      },
      "outputs": [
        {
          "data": {
            "text/plain": [
              "array([0.        , 0.11111111, 0.22222222, 0.33333333, 0.44444444,\n",
              "       0.55555556, 0.66666667, 0.77777778, 0.88888889, 1.        ])"
            ]
          },
          "execution_count": 136,
          "metadata": {},
          "output_type": "execute_result"
        }
      ],
      "source": [
        ""
      ]
    },
    {
      "cell_type": "code",
      "execution_count": 28,
      "metadata": {
        "colab": {
          "base_uri": "https://localhost:8080/"
        },
        "id": "ujCjC7tbx_ox",
        "outputId": "a3239554-cd27-4b85-858a-f86837ac2e79"
      },
      "outputs": [
        {
          "output_type": "execute_result",
          "data": {
            "text/plain": [
              "array([[ 9.95308644, 11.26068666,  9.72787412, 10.63458815],\n",
              "       [12.12662971,  9.90571215, 11.11220879, 10.84939064],\n",
              "       [11.17450874,  9.54503101, 11.67209715, 11.02636172]])"
            ]
          },
          "metadata": {},
          "execution_count": 28
        }
      ],
      "source": [
        "# code here (random.normal)\n",
        "np.random.normal(11 ,size=(3,4))"
      ]
    },
    {
      "cell_type": "code",
      "execution_count": null,
      "metadata": {
        "id": "A5A10g5Nx_ox",
        "outputId": "c47f0594-d167-4d1c-84a9-6199f1d90046"
      },
      "outputs": [
        {
          "data": {
            "text/plain": [
              "array([[17.36153175, 13.13320486,  7.9751651 , 10.96652924],\n",
              "       [15.88966379, 14.9596121 ,  0.79541802, 13.03982467],\n",
              "       [11.16320473,  8.95138261, 11.24850164, 14.35247169]])"
            ]
          },
          "execution_count": 27,
          "metadata": {},
          "output_type": "execute_result"
        }
      ],
      "source": [
        ""
      ]
    },
    {
      "cell_type": "code",
      "execution_count": 30,
      "metadata": {
        "colab": {
          "base_uri": "https://localhost:8080/"
        },
        "id": "aqh2t6QTx_ox",
        "outputId": "ffebafc4-0751-41d5-8710-2e31de539f59"
      },
      "outputs": [
        {
          "output_type": "execute_result",
          "data": {
            "text/plain": [
              "array([[2, 0],\n",
              "       [8, 8],\n",
              "       [1, 2],\n",
              "       [2, 1],\n",
              "       [0, 3]])"
            ]
          },
          "metadata": {},
          "execution_count": 30
        }
      ],
      "source": [
        "# code here (random.randint)\n",
        "np.random.randint(0,9,size=(5,2))"
      ]
    },
    {
      "cell_type": "code",
      "execution_count": null,
      "metadata": {
        "id": "umJQshDIx_ox",
        "outputId": "4f1c327f-e946-40f1-ea94-dcb12c943287"
      },
      "outputs": [
        {
          "data": {
            "text/plain": [
              "array([[5, 8],\n",
              "       [5, 2],\n",
              "       [7, 5],\n",
              "       [7, 7],\n",
              "       [0, 5]])"
            ]
          },
          "execution_count": 28,
          "metadata": {},
          "output_type": "execute_result"
        }
      ],
      "source": [
        ""
      ]
    },
    {
      "cell_type": "markdown",
      "metadata": {
        "id": "Jqfqsdw0x_oy"
      },
      "source": [
        "### Özellikleri"
      ]
    },
    {
      "cell_type": "markdown",
      "metadata": {
        "id": "kfuUmo0gx_oy"
      },
      "source": [
        "* **ndim**: _boyut sayısı_\n",
        "* shape: boyut bilgisi\n",
        "* size: toplam eleman sayısı\n",
        "* dtype: array veri tipi"
      ]
    },
    {
      "cell_type": "code",
      "execution_count": 31,
      "metadata": {
        "id": "igNaRms8x_oy"
      },
      "outputs": [],
      "source": [
        "import numpy as np"
      ]
    },
    {
      "cell_type": "code",
      "execution_count": 33,
      "metadata": {
        "colab": {
          "base_uri": "https://localhost:8080/"
        },
        "id": "UZ61XlX8x_oy",
        "outputId": "6305e96c-61e1-4fb4-868b-921a9668167e"
      },
      "outputs": [
        {
          "output_type": "execute_result",
          "data": {
            "text/plain": [
              "array([7, 1, 2, 6, 2, 2, 2, 9, 8, 2])"
            ]
          },
          "metadata": {},
          "execution_count": 33
        }
      ],
      "source": [
        "# code here(random.randint, hihg=10, size=10)\n",
        "np.random.randint(10,size=10)"
      ]
    },
    {
      "cell_type": "code",
      "execution_count": null,
      "metadata": {
        "id": "O159-pfJx_oz",
        "outputId": "9a2d3c60-0fcb-4a87-db17-e6c97d813740"
      },
      "outputs": [
        {
          "data": {
            "text/plain": [
              "array([9, 8, 7, 8, 5, 3, 6, 8, 2, 8])"
            ]
          },
          "execution_count": 31,
          "metadata": {},
          "output_type": "execute_result"
        }
      ],
      "source": [
        ""
      ]
    },
    {
      "cell_type": "code",
      "execution_count": 34,
      "metadata": {
        "colab": {
          "base_uri": "https://localhost:8080/"
        },
        "id": "f41YKjOEx_oz",
        "outputId": "df85724f-6fbe-4d96-dab4-478c5297fa5a"
      },
      "outputs": [
        {
          "output_type": "execute_result",
          "data": {
            "text/plain": [
              "array([0, 2, 7, 9, 4, 3, 4, 9, 8, 7])"
            ]
          },
          "metadata": {},
          "execution_count": 34
        }
      ],
      "source": [
        "a = np.random.randint(10, size = 10)\n",
        "a"
      ]
    },
    {
      "cell_type": "code",
      "execution_count": 36,
      "metadata": {
        "colab": {
          "base_uri": "https://localhost:8080/"
        },
        "id": "5yCJ3uWzx_oz",
        "outputId": "5c349a61-6d0e-427d-ef45-6674dc39e556"
      },
      "outputs": [
        {
          "output_type": "execute_result",
          "data": {
            "text/plain": [
              "1"
            ]
          },
          "metadata": {},
          "execution_count": 36
        }
      ],
      "source": [
        "# code here (find the dimension of a)\n",
        "a.ndim"
      ]
    },
    {
      "cell_type": "code",
      "execution_count": null,
      "metadata": {
        "id": "nXKDMW0ax_oz",
        "outputId": "e8f2003f-2add-41ce-fc81-e2577608e46e"
      },
      "outputs": [
        {
          "data": {
            "text/plain": [
              "1"
            ]
          },
          "execution_count": 142,
          "metadata": {},
          "output_type": "execute_result"
        }
      ],
      "source": [
        ""
      ]
    },
    {
      "cell_type": "code",
      "execution_count": 39,
      "metadata": {
        "colab": {
          "base_uri": "https://localhost:8080/"
        },
        "id": "fwQjQ1FHx_oz",
        "outputId": "891ccda2-6845-4bec-bfda-7921f457c4dc"
      },
      "outputs": [
        {
          "output_type": "execute_result",
          "data": {
            "text/plain": [
              "(10,)"
            ]
          },
          "metadata": {},
          "execution_count": 39
        }
      ],
      "source": [
        "# code here (find the shape of a)\n",
        "a.shape"
      ]
    },
    {
      "cell_type": "code",
      "execution_count": null,
      "metadata": {
        "id": "vt1QU4s9x_o0",
        "outputId": "e08d1808-cdc8-4152-e9b3-60a8474478bb"
      },
      "outputs": [
        {
          "data": {
            "text/plain": [
              "(10,)"
            ]
          },
          "execution_count": 143,
          "metadata": {},
          "output_type": "execute_result"
        }
      ],
      "source": [
        ""
      ]
    },
    {
      "cell_type": "code",
      "execution_count": 40,
      "metadata": {
        "colab": {
          "base_uri": "https://localhost:8080/"
        },
        "id": "n3-TqpvDx_o0",
        "outputId": "3dff8fa6-09b3-41a4-ef56-75827535edae"
      },
      "outputs": [
        {
          "output_type": "execute_result",
          "data": {
            "text/plain": [
              "10"
            ]
          },
          "metadata": {},
          "execution_count": 40
        }
      ],
      "source": [
        "# code here (find the size of a)\n",
        "len(a)"
      ]
    },
    {
      "cell_type": "code",
      "source": [
        "a.shape[0]"
      ],
      "metadata": {
        "colab": {
          "base_uri": "https://localhost:8080/"
        },
        "id": "0bS4FDqW1pln",
        "outputId": "c48e2c33-b422-43d1-d0c3-9d10183124cc"
      },
      "execution_count": 41,
      "outputs": [
        {
          "output_type": "execute_result",
          "data": {
            "text/plain": [
              "10"
            ]
          },
          "metadata": {},
          "execution_count": 41
        }
      ]
    },
    {
      "cell_type": "code",
      "execution_count": null,
      "metadata": {
        "id": "ybnw7Lrfx_o0",
        "outputId": "834b8d90-2d06-4563-fa68-a305c4531c87"
      },
      "outputs": [
        {
          "data": {
            "text/plain": [
              "10"
            ]
          },
          "execution_count": 144,
          "metadata": {},
          "output_type": "execute_result"
        }
      ],
      "source": [
        ""
      ]
    },
    {
      "cell_type": "code",
      "execution_count": 42,
      "metadata": {
        "colab": {
          "base_uri": "https://localhost:8080/"
        },
        "id": "Qk72_CjSx_o0",
        "outputId": "99c1a966-cb04-49f2-f5c8-47bafbd72e87"
      },
      "outputs": [
        {
          "output_type": "execute_result",
          "data": {
            "text/plain": [
              "numpy.ndarray"
            ]
          },
          "metadata": {},
          "execution_count": 42
        }
      ],
      "source": [
        "# code here (find the dtype of a)\n",
        "type(a)"
      ]
    },
    {
      "cell_type": "code",
      "source": [
        "a.dtype"
      ],
      "metadata": {
        "colab": {
          "base_uri": "https://localhost:8080/"
        },
        "id": "I2nCo8Gt10E7",
        "outputId": "9a440d96-7b11-40cc-e8bc-be19b8493e0c"
      },
      "execution_count": 43,
      "outputs": [
        {
          "output_type": "execute_result",
          "data": {
            "text/plain": [
              "dtype('int64')"
            ]
          },
          "metadata": {},
          "execution_count": 43
        }
      ]
    },
    {
      "cell_type": "code",
      "execution_count": null,
      "metadata": {
        "id": "dy_WgBYLx_o0",
        "outputId": "62a69115-dd74-4f58-b4c0-9d6a38a80ab4"
      },
      "outputs": [
        {
          "data": {
            "text/plain": [
              "dtype('int32')"
            ]
          },
          "execution_count": 145,
          "metadata": {},
          "output_type": "execute_result"
        }
      ],
      "source": [
        ""
      ]
    },
    {
      "cell_type": "code",
      "execution_count": null,
      "metadata": {
        "id": "50O8f-9Xx_o0"
      },
      "outputs": [],
      "source": [
        "# code here(assign your code to 'b', random.randint, hihg=20, size=(4,6))"
      ]
    },
    {
      "cell_type": "code",
      "execution_count": null,
      "metadata": {
        "id": "2-agfdGvx_o0"
      },
      "outputs": [],
      "source": [
        ""
      ]
    },
    {
      "cell_type": "code",
      "execution_count": null,
      "metadata": {
        "id": "QNUB1oA6x_o1",
        "outputId": "07a3a397-913d-43c6-c513-515a810aca43"
      },
      "outputs": [
        {
          "data": {
            "text/plain": [
              "array([[14, 16,  3,  7,  1],\n",
              "       [ 3, 16,  2,  6,  0],\n",
              "       [15,  9,  8,  9, 19],\n",
              "       [ 3, 10,  4,  6, 15]])"
            ]
          },
          "execution_count": 33,
          "metadata": {},
          "output_type": "execute_result"
        }
      ],
      "source": [
        "b"
      ]
    },
    {
      "cell_type": "code",
      "execution_count": null,
      "metadata": {
        "id": "I8Oa6N-wx_o1"
      },
      "outputs": [],
      "source": [
        "b = np.random.randint(20, size = (4,6))"
      ]
    },
    {
      "cell_type": "code",
      "execution_count": null,
      "metadata": {
        "id": "FJ-dw36px_o1"
      },
      "outputs": [],
      "source": [
        "# code here (find the dimension of b)"
      ]
    },
    {
      "cell_type": "code",
      "execution_count": null,
      "metadata": {
        "id": "Ym_P_D42x_o1",
        "outputId": "a0df2eff-a3eb-49b8-e1dd-1ee1c5e089ea"
      },
      "outputs": [
        {
          "data": {
            "text/plain": [
              "2"
            ]
          },
          "execution_count": 35,
          "metadata": {},
          "output_type": "execute_result"
        }
      ],
      "source": [
        ""
      ]
    },
    {
      "cell_type": "code",
      "execution_count": null,
      "metadata": {
        "id": "HrdCI3Zex_o1"
      },
      "outputs": [],
      "source": [
        "# code here (find the shape of b)"
      ]
    },
    {
      "cell_type": "code",
      "execution_count": null,
      "metadata": {
        "id": "YXWWrmt1x_o1",
        "outputId": "109a1e3d-6250-4aec-9e6d-2e1969fbd187"
      },
      "outputs": [
        {
          "data": {
            "text/plain": [
              "(4, 6)"
            ]
          },
          "execution_count": 36,
          "metadata": {},
          "output_type": "execute_result"
        }
      ],
      "source": [
        ""
      ]
    },
    {
      "cell_type": "code",
      "execution_count": null,
      "metadata": {
        "id": "fFtiDijWx_o1"
      },
      "outputs": [],
      "source": [
        "# code here (find the size of b)"
      ]
    },
    {
      "cell_type": "code",
      "execution_count": null,
      "metadata": {
        "id": "YRbFMSBfx_o2",
        "outputId": "7de79b8e-7c4e-4ca0-956e-c236a9260631"
      },
      "outputs": [
        {
          "data": {
            "text/plain": [
              "24"
            ]
          },
          "execution_count": 37,
          "metadata": {},
          "output_type": "execute_result"
        }
      ],
      "source": [
        ""
      ]
    },
    {
      "cell_type": "code",
      "execution_count": null,
      "metadata": {
        "id": "G4venCXAx_o2"
      },
      "outputs": [],
      "source": [
        "# code here (find the dtype of b)"
      ]
    },
    {
      "cell_type": "code",
      "execution_count": null,
      "metadata": {
        "id": "VSb1REGUx_o2",
        "outputId": "6dfa173a-6905-43ef-fdba-9da6d9ff300c"
      },
      "outputs": [
        {
          "data": {
            "text/plain": [
              "dtype('int32')"
            ]
          },
          "execution_count": 38,
          "metadata": {},
          "output_type": "execute_result"
        }
      ],
      "source": [
        ""
      ]
    },
    {
      "cell_type": "markdown",
      "metadata": {
        "id": "dlIEi_MMx_o2"
      },
      "source": [
        "# Yeniden Şekillendirme (Reshaping)"
      ]
    },
    {
      "cell_type": "code",
      "execution_count": null,
      "metadata": {
        "id": "1d-SwLPZx_o2"
      },
      "outputs": [],
      "source": [
        "import numpy as np"
      ]
    },
    {
      "cell_type": "code",
      "execution_count": null,
      "metadata": {
        "id": "ddLAJtItx_o2"
      },
      "outputs": [],
      "source": [
        "# code here (arange, start=1, stop=10)"
      ]
    },
    {
      "cell_type": "code",
      "execution_count": null,
      "metadata": {
        "id": "iaRwxtFmx_o2",
        "outputId": "27f140f0-9ef7-47c7-f013-0f4b3ccfa173"
      },
      "outputs": [
        {
          "data": {
            "text/plain": [
              "array([1, 2, 3, 4, 5, 6, 7, 8, 9])"
            ]
          },
          "execution_count": 153,
          "metadata": {},
          "output_type": "execute_result"
        }
      ],
      "source": [
        ""
      ]
    },
    {
      "cell_type": "code",
      "execution_count": null,
      "metadata": {
        "id": "GoKhqjWcx_o3"
      },
      "outputs": [],
      "source": [
        "# code here (reshape (3,3) your coding above)"
      ]
    },
    {
      "cell_type": "code",
      "execution_count": null,
      "metadata": {
        "id": "UCxWDfKSx_o3",
        "outputId": "c39cdc15-a9ef-432e-f08d-fe7a7a174222"
      },
      "outputs": [
        {
          "data": {
            "text/plain": [
              "array([[1, 2, 3],\n",
              "       [4, 5, 6],\n",
              "       [7, 8, 9]])"
            ]
          },
          "execution_count": 154,
          "metadata": {},
          "output_type": "execute_result"
        }
      ],
      "source": [
        ""
      ]
    },
    {
      "cell_type": "code",
      "execution_count": null,
      "metadata": {
        "id": "3PO7UBl2x_o3"
      },
      "outputs": [],
      "source": [
        "a = np.arange(1,10)"
      ]
    },
    {
      "cell_type": "code",
      "execution_count": null,
      "metadata": {
        "id": "wmlU4wJix_o3",
        "outputId": "d093ef11-642a-4288-94e4-495f0ef06eff"
      },
      "outputs": [
        {
          "data": {
            "text/plain": [
              "array([1, 2, 3, 4, 5, 6, 7, 8, 9])"
            ]
          },
          "execution_count": 156,
          "metadata": {},
          "output_type": "execute_result"
        }
      ],
      "source": [
        "a"
      ]
    },
    {
      "cell_type": "code",
      "execution_count": null,
      "metadata": {
        "id": "g3JG44Vzx_o3"
      },
      "outputs": [],
      "source": [
        "# code here (find the dimension of a)"
      ]
    },
    {
      "cell_type": "code",
      "execution_count": null,
      "metadata": {
        "id": "NmOWuomix_o3",
        "outputId": "f458ae3d-d07e-466a-b592-56f00ecc7eff"
      },
      "outputs": [
        {
          "data": {
            "text/plain": [
              "1"
            ]
          },
          "execution_count": 157,
          "metadata": {},
          "output_type": "execute_result"
        }
      ],
      "source": [
        ""
      ]
    },
    {
      "cell_type": "code",
      "execution_count": null,
      "metadata": {
        "id": "_SXcHkBfx_o3"
      },
      "outputs": [],
      "source": [
        "# code here (reshape a as (1,9) and assign to b)"
      ]
    },
    {
      "cell_type": "code",
      "execution_count": null,
      "metadata": {
        "id": "ZW0HRBJvx_o3",
        "outputId": "5285520a-0ae9-4780-c8d8-cadffd3f6963"
      },
      "outputs": [
        {
          "data": {
            "text/plain": [
              "array([[1, 2, 3, 4, 5, 6, 7, 8, 9]])"
            ]
          },
          "execution_count": 159,
          "metadata": {},
          "output_type": "execute_result"
        }
      ],
      "source": [
        "b"
      ]
    },
    {
      "cell_type": "code",
      "execution_count": null,
      "metadata": {
        "id": "qAjgJ0eWx_o4"
      },
      "outputs": [],
      "source": [
        "# code here (find the dimension of b)"
      ]
    },
    {
      "cell_type": "code",
      "execution_count": null,
      "metadata": {
        "id": "_vcIPUJ9x_o4",
        "outputId": "af2a8c3f-c7c6-43d8-d7e5-8da40c42ed7f"
      },
      "outputs": [
        {
          "data": {
            "text/plain": [
              "2"
            ]
          },
          "execution_count": 160,
          "metadata": {},
          "output_type": "execute_result"
        }
      ],
      "source": [
        ""
      ]
    },
    {
      "cell_type": "markdown",
      "metadata": {
        "id": "AXgIr6Ifx_o4"
      },
      "source": [
        "### Array Birlestirme (Concatenation)"
      ]
    },
    {
      "cell_type": "code",
      "execution_count": null,
      "metadata": {
        "id": "JTDfw2LSx_o4"
      },
      "outputs": [],
      "source": [
        "import numpy as np"
      ]
    },
    {
      "cell_type": "code",
      "execution_count": null,
      "metadata": {
        "id": "iCfbXeznx_o4"
      },
      "outputs": [],
      "source": [
        "x = np.array([1,2,3])\n",
        "y = np.array([4,5,6])"
      ]
    },
    {
      "cell_type": "code",
      "execution_count": null,
      "metadata": {
        "id": "m1uWfKVcx_o4"
      },
      "outputs": [],
      "source": [
        "# code here (concatenate x and y)"
      ]
    },
    {
      "cell_type": "code",
      "execution_count": null,
      "metadata": {
        "id": "ezcAGSz5x_o5",
        "outputId": "2b85baff-43a2-4976-fc51-31130469eeef"
      },
      "outputs": [
        {
          "data": {
            "text/plain": [
              "array([1, 2, 3, 4, 5, 6])"
            ]
          },
          "execution_count": 163,
          "metadata": {},
          "output_type": "execute_result"
        }
      ],
      "source": [
        ""
      ]
    },
    {
      "cell_type": "code",
      "execution_count": null,
      "metadata": {
        "id": "S5JvWm2qx_o5"
      },
      "outputs": [],
      "source": [
        "z = np.array([7,8,9])"
      ]
    },
    {
      "cell_type": "code",
      "execution_count": null,
      "metadata": {
        "id": "yCgBLWc6x_o5"
      },
      "outputs": [],
      "source": [
        "# code here (concatenate x, y and z)"
      ]
    },
    {
      "cell_type": "code",
      "execution_count": null,
      "metadata": {
        "id": "wFj3rjW0x_o5",
        "outputId": "88210b6e-f6e3-4858-cb3b-ad3e86fb21e5"
      },
      "outputs": [
        {
          "data": {
            "text/plain": [
              "array([1, 2, 3, 4, 5, 6, 7, 8, 9])"
            ]
          },
          "execution_count": 165,
          "metadata": {},
          "output_type": "execute_result"
        }
      ],
      "source": [
        ""
      ]
    },
    {
      "cell_type": "code",
      "execution_count": null,
      "metadata": {
        "id": "J3Zg9Gfax_o5"
      },
      "outputs": [],
      "source": [
        "# code here (concatenate z, y and x)"
      ]
    },
    {
      "cell_type": "code",
      "execution_count": null,
      "metadata": {
        "id": "_Zm24q1Sx_o5",
        "outputId": "3b80dc29-b2e1-4281-f532-495f563ad698"
      },
      "outputs": [
        {
          "data": {
            "text/plain": [
              "array([7, 8, 9, 4, 5, 6, 1, 2, 3])"
            ]
          },
          "execution_count": 166,
          "metadata": {},
          "output_type": "execute_result"
        }
      ],
      "source": [
        ""
      ]
    },
    {
      "cell_type": "code",
      "execution_count": null,
      "metadata": {
        "id": "-ZlZ1ML_x_o5"
      },
      "outputs": [],
      "source": [
        "a = np.array([[1,2,3], \n",
        "              [4,5,6]])"
      ]
    },
    {
      "cell_type": "code",
      "execution_count": null,
      "metadata": {
        "id": "8zzH8TUKx_o6"
      },
      "outputs": [],
      "source": [
        "# code here (concatenate a and a)"
      ]
    },
    {
      "cell_type": "code",
      "execution_count": null,
      "metadata": {
        "id": "SEXKGBXwx_o6",
        "outputId": "4c8fdf29-a7a8-412c-da5b-f6ddd3115ee5"
      },
      "outputs": [
        {
          "data": {
            "text/plain": [
              "array([[1, 2, 3],\n",
              "       [4, 5, 6],\n",
              "       [1, 2, 3],\n",
              "       [4, 5, 6]])"
            ]
          },
          "execution_count": 169,
          "metadata": {},
          "output_type": "execute_result"
        }
      ],
      "source": [
        ""
      ]
    },
    {
      "cell_type": "code",
      "execution_count": null,
      "metadata": {
        "id": "yQBp3-r2x_o6"
      },
      "outputs": [],
      "source": [
        "# code here (concatenate a and a)"
      ]
    },
    {
      "cell_type": "code",
      "execution_count": null,
      "metadata": {
        "id": "M286TBOYx_o6",
        "outputId": "a81b6823-b022-4d60-d298-d17cf6aec80e"
      },
      "outputs": [
        {
          "data": {
            "text/plain": [
              "array([[1, 2, 3, 1, 2, 3],\n",
              "       [4, 5, 6, 4, 5, 6]])"
            ]
          },
          "execution_count": 170,
          "metadata": {},
          "output_type": "execute_result"
        }
      ],
      "source": [
        ""
      ]
    },
    {
      "cell_type": "markdown",
      "metadata": {
        "id": "2XIIyE6Hx_o6"
      },
      "source": [
        "# Array Ayırma (Splitting)"
      ]
    },
    {
      "cell_type": "code",
      "execution_count": null,
      "metadata": {
        "id": "wtavcUGdx_o6"
      },
      "outputs": [],
      "source": [
        "import numpy as np"
      ]
    },
    {
      "cell_type": "code",
      "execution_count": null,
      "metadata": {
        "id": "Qd1r9-xSx_o6"
      },
      "outputs": [],
      "source": [
        "x = np.array([1,2,3,99,99,3,2,1])"
      ]
    },
    {
      "cell_type": "code",
      "execution_count": null,
      "metadata": {
        "id": "170qcX6Dx_o7"
      },
      "outputs": [],
      "source": [
        "# code here (split x from 3 and 5)"
      ]
    },
    {
      "cell_type": "code",
      "execution_count": null,
      "metadata": {
        "id": "sQZCBpHCx_o7",
        "outputId": "6bb82d83-813d-4c80-c6bc-25ee1ef47939"
      },
      "outputs": [
        {
          "data": {
            "text/plain": [
              "[array([1, 2, 3]), array([99, 99]), array([3, 2, 1])]"
            ]
          },
          "execution_count": 173,
          "metadata": {},
          "output_type": "execute_result"
        }
      ],
      "source": [
        ""
      ]
    },
    {
      "cell_type": "code",
      "execution_count": null,
      "metadata": {
        "id": "tgj0R10Hx_o7"
      },
      "outputs": [],
      "source": [
        "# code here (do a tuple unpacking for above splitting in order of a,b,c)"
      ]
    },
    {
      "cell_type": "code",
      "execution_count": null,
      "metadata": {
        "id": "wF5JFBVlx_o7"
      },
      "outputs": [],
      "source": [
        ""
      ]
    },
    {
      "cell_type": "code",
      "execution_count": null,
      "metadata": {
        "id": "yH2lD5Cvx_o7",
        "outputId": "385e669a-2aae-402f-819c-2e55f0a9a115"
      },
      "outputs": [
        {
          "data": {
            "text/plain": [
              "array([1, 2, 3])"
            ]
          },
          "execution_count": 175,
          "metadata": {},
          "output_type": "execute_result"
        }
      ],
      "source": [
        "a"
      ]
    },
    {
      "cell_type": "code",
      "execution_count": null,
      "metadata": {
        "id": "vjWDhPi6x_o7",
        "outputId": "172876ee-0adb-4e25-f161-b6559a7c1ed3"
      },
      "outputs": [
        {
          "data": {
            "text/plain": [
              "array([99, 99])"
            ]
          },
          "execution_count": 176,
          "metadata": {},
          "output_type": "execute_result"
        }
      ],
      "source": [
        "b"
      ]
    },
    {
      "cell_type": "code",
      "execution_count": null,
      "metadata": {
        "id": "Tep6Rkddx_o8",
        "outputId": "02c053ab-6c2c-4620-eca9-a534b71f54c6"
      },
      "outputs": [
        {
          "data": {
            "text/plain": [
              "array([3, 2, 1])"
            ]
          },
          "execution_count": 177,
          "metadata": {},
          "output_type": "execute_result"
        }
      ],
      "source": [
        "c"
      ]
    },
    {
      "cell_type": "code",
      "execution_count": null,
      "metadata": {
        "id": "3aorMRQxx_o8"
      },
      "outputs": [],
      "source": [
        "#iki boyutlu ayırma"
      ]
    },
    {
      "cell_type": "code",
      "execution_count": null,
      "metadata": {
        "id": "uFmeJRtRx_o8",
        "outputId": "5cbd7619-75c8-4b3b-d41f-9dba5cf52819"
      },
      "outputs": [
        {
          "data": {
            "text/plain": [
              "array([[ 0,  1,  2,  3],\n",
              "       [ 4,  5,  6,  7],\n",
              "       [ 8,  9, 10, 11],\n",
              "       [12, 13, 14, 15]])"
            ]
          },
          "execution_count": 54,
          "metadata": {},
          "output_type": "execute_result"
        }
      ],
      "source": [
        "m = np.arange(16).reshape(4,4)\n",
        "m"
      ]
    },
    {
      "cell_type": "code",
      "execution_count": null,
      "metadata": {
        "id": "W89yhKj_x_o8"
      },
      "outputs": [],
      "source": [
        "# code here (split m)"
      ]
    },
    {
      "cell_type": "code",
      "execution_count": null,
      "metadata": {
        "id": "i15z4stpx_o9",
        "outputId": "f825882d-4200-4c1f-cdee-c4d9cdb9f83c"
      },
      "outputs": [
        {
          "data": {
            "text/plain": [
              "[array([[0, 1, 2, 3],\n",
              "        [4, 5, 6, 7]]),\n",
              " array([[ 8,  9, 10, 11],\n",
              "        [12, 13, 14, 15]])]"
            ]
          },
          "execution_count": 55,
          "metadata": {},
          "output_type": "execute_result"
        }
      ],
      "source": [
        ""
      ]
    },
    {
      "cell_type": "code",
      "execution_count": null,
      "metadata": {
        "id": "HHVjqJ0Hx_o9"
      },
      "outputs": [],
      "source": [
        "# code here (split m)"
      ]
    },
    {
      "cell_type": "code",
      "execution_count": null,
      "metadata": {
        "id": "JtrONCV8x_o9",
        "outputId": "2d180fb8-0206-4bf4-d925-d068bd2cedd3"
      },
      "outputs": [
        {
          "data": {
            "text/plain": [
              "[array([[ 0,  1],\n",
              "        [ 4,  5],\n",
              "        [ 8,  9],\n",
              "        [12, 13]]),\n",
              " array([[ 2,  3],\n",
              "        [ 6,  7],\n",
              "        [10, 11],\n",
              "        [14, 15]])]"
            ]
          },
          "execution_count": 185,
          "metadata": {},
          "output_type": "execute_result"
        }
      ],
      "source": [
        ""
      ]
    },
    {
      "cell_type": "markdown",
      "metadata": {
        "id": "eihvBrTAx_o9"
      },
      "source": [
        "### Array Sıralama (Sorting)"
      ]
    },
    {
      "cell_type": "code",
      "execution_count": null,
      "metadata": {
        "id": "M6ydI3r5x_o9"
      },
      "outputs": [],
      "source": [
        "import numpy as np"
      ]
    },
    {
      "cell_type": "code",
      "execution_count": null,
      "metadata": {
        "id": "wExId_c1x_o9"
      },
      "outputs": [],
      "source": [
        "v = np.array([2,1,4,3,5])"
      ]
    },
    {
      "cell_type": "code",
      "execution_count": null,
      "metadata": {
        "id": "ppIVikG9x_o9",
        "outputId": "3208f2a2-a1b6-4b4c-83f7-de2033466c66"
      },
      "outputs": [
        {
          "data": {
            "text/plain": [
              "array([2, 1, 4, 3, 5])"
            ]
          },
          "execution_count": 58,
          "metadata": {},
          "output_type": "execute_result"
        }
      ],
      "source": [
        "v"
      ]
    },
    {
      "cell_type": "code",
      "execution_count": null,
      "metadata": {
        "id": "U0NZMuVJx_o-"
      },
      "outputs": [],
      "source": [
        "# code here (sort v)"
      ]
    },
    {
      "cell_type": "code",
      "execution_count": null,
      "metadata": {
        "id": "3D_FvWrxx_o-",
        "outputId": "cec07fc4-14ff-4743-8d08-ef96992211cd"
      },
      "outputs": [
        {
          "data": {
            "text/plain": [
              "array([1, 2, 3, 4, 5])"
            ]
          },
          "execution_count": 192,
          "metadata": {},
          "output_type": "execute_result"
        }
      ],
      "source": [
        ""
      ]
    },
    {
      "cell_type": "code",
      "execution_count": null,
      "metadata": {
        "id": "K9La8iuNx_o-"
      },
      "outputs": [],
      "source": [
        "# iki boyutlu array siralama"
      ]
    },
    {
      "cell_type": "code",
      "execution_count": null,
      "metadata": {
        "id": "VNBrV3dWx_o-"
      },
      "outputs": [],
      "source": [
        "m = np.random.normal(20,5, (3,3))"
      ]
    },
    {
      "cell_type": "code",
      "execution_count": null,
      "metadata": {
        "id": "5z1tEP2ex_o-",
        "outputId": "a6cce927-9627-4694-c615-a7de01d41e9f"
      },
      "outputs": [
        {
          "data": {
            "text/plain": [
              "array([[20.00086064, 11.4711052 , 28.44452052],\n",
              "       [16.0648143 , 23.22445351, 15.02090679],\n",
              "       [20.03722184, 22.39429448,  9.34939833]])"
            ]
          },
          "execution_count": 68,
          "metadata": {},
          "output_type": "execute_result"
        }
      ],
      "source": [
        "m"
      ]
    },
    {
      "cell_type": "code",
      "execution_count": null,
      "metadata": {
        "id": "wTNGy2Q6x_o-"
      },
      "outputs": [],
      "source": [
        "# code here (sort m)"
      ]
    },
    {
      "cell_type": "code",
      "execution_count": null,
      "metadata": {
        "id": "mTmaNXJTx_o_",
        "outputId": "3b0ec55f-9438-465b-904c-6bd115dba6e5"
      },
      "outputs": [
        {
          "data": {
            "text/plain": [
              "array([[11.4711052 , 20.00086064, 28.44452052],\n",
              "       [15.02090679, 16.0648143 , 23.22445351],\n",
              "       [ 9.34939833, 20.03722184, 22.39429448]])"
            ]
          },
          "execution_count": 70,
          "metadata": {},
          "output_type": "execute_result"
        }
      ],
      "source": [
        ""
      ]
    },
    {
      "cell_type": "code",
      "execution_count": null,
      "metadata": {
        "id": "iee2vjAhx_o_"
      },
      "outputs": [],
      "source": [
        "# code here (sort m)"
      ]
    },
    {
      "cell_type": "code",
      "execution_count": null,
      "metadata": {
        "id": "AI4p05nXx_o_",
        "outputId": "e2bbddd8-9a26-4beb-ef40-f2d4b573e518"
      },
      "outputs": [
        {
          "data": {
            "text/plain": [
              "array([[16.0648143 , 11.4711052 ,  9.34939833],\n",
              "       [20.00086064, 22.39429448, 15.02090679],\n",
              "       [20.03722184, 23.22445351, 28.44452052]])"
            ]
          },
          "execution_count": 72,
          "metadata": {},
          "output_type": "execute_result"
        }
      ],
      "source": [
        ""
      ]
    },
    {
      "cell_type": "markdown",
      "metadata": {
        "id": "0pVaNJqax_o_"
      },
      "source": [
        "# Index ile Elemanlara Erişmek"
      ]
    },
    {
      "cell_type": "code",
      "execution_count": null,
      "metadata": {
        "id": "t-A20gRdx_o_",
        "outputId": "f08142d2-bda3-4896-ba1f-e42b5a7b1bbe"
      },
      "outputs": [
        {
          "data": {
            "text/plain": [
              "array([3, 1, 3, 9, 8, 3, 2, 5, 7, 6])"
            ]
          },
          "execution_count": 73,
          "metadata": {},
          "output_type": "execute_result"
        }
      ],
      "source": [
        "import numpy as np\n",
        "a = np.random.randint(10, size = 10)\n",
        "a"
      ]
    },
    {
      "cell_type": "code",
      "execution_count": null,
      "metadata": {
        "id": "QuGqFVLmx_o_"
      },
      "outputs": [],
      "source": [
        "# code here"
      ]
    },
    {
      "cell_type": "code",
      "execution_count": null,
      "metadata": {
        "id": "jwH1MUQIx_o_",
        "outputId": "8a5bfe66-c053-4a08-a30a-4dae06621654"
      },
      "outputs": [
        {
          "data": {
            "text/plain": [
              "3"
            ]
          },
          "execution_count": 74,
          "metadata": {},
          "output_type": "execute_result"
        }
      ],
      "source": [
        ""
      ]
    },
    {
      "cell_type": "code",
      "execution_count": null,
      "metadata": {
        "id": "LGoMQJw4x_pA"
      },
      "outputs": [],
      "source": [
        "# code here"
      ]
    },
    {
      "cell_type": "code",
      "execution_count": null,
      "metadata": {
        "id": "bUMYMC8tx_pA",
        "outputId": "4ea47f4c-b877-4603-b09c-20793b99eb76"
      },
      "outputs": [
        {
          "data": {
            "text/plain": [
              "6"
            ]
          },
          "execution_count": 75,
          "metadata": {},
          "output_type": "execute_result"
        }
      ],
      "source": [
        ""
      ]
    },
    {
      "cell_type": "code",
      "execution_count": null,
      "metadata": {
        "id": "Bi3eEnNAx_pA"
      },
      "outputs": [],
      "source": [
        "a[2], a[5], a[9] = [4, 0, 100]"
      ]
    },
    {
      "cell_type": "code",
      "execution_count": null,
      "metadata": {
        "id": "mknHfOJUx_pA"
      },
      "outputs": [],
      "source": [
        "# code here"
      ]
    },
    {
      "cell_type": "code",
      "execution_count": null,
      "metadata": {
        "id": "4D6fmHZUx_pA",
        "outputId": "33acde37-6224-4f18-cb84-6fb7f60542e7"
      },
      "outputs": [
        {
          "data": {
            "text/plain": [
              "4"
            ]
          },
          "execution_count": 78,
          "metadata": {},
          "output_type": "execute_result"
        }
      ],
      "source": [
        ""
      ]
    },
    {
      "cell_type": "code",
      "execution_count": null,
      "metadata": {
        "id": "q_5Cslh-x_pA"
      },
      "outputs": [],
      "source": [
        "# code here"
      ]
    },
    {
      "cell_type": "code",
      "execution_count": null,
      "metadata": {
        "id": "yOlb5mWxx_pB",
        "outputId": "d36ca4c1-482b-47cf-887a-0a0abc0d3909"
      },
      "outputs": [
        {
          "data": {
            "text/plain": [
              "0"
            ]
          },
          "execution_count": 79,
          "metadata": {},
          "output_type": "execute_result"
        }
      ],
      "source": [
        ""
      ]
    },
    {
      "cell_type": "code",
      "execution_count": null,
      "metadata": {
        "id": "jKfSDYSPx_pB"
      },
      "outputs": [],
      "source": [
        "# code here"
      ]
    },
    {
      "cell_type": "code",
      "execution_count": null,
      "metadata": {
        "id": "CZxm5Bv6x_pB",
        "outputId": "72cb3926-fc3d-4675-a2a5-93d28878f903"
      },
      "outputs": [
        {
          "data": {
            "text/plain": [
              "100"
            ]
          },
          "execution_count": 80,
          "metadata": {},
          "output_type": "execute_result"
        }
      ],
      "source": [
        ""
      ]
    },
    {
      "cell_type": "code",
      "execution_count": null,
      "metadata": {
        "id": "6I6SR_bYx_pB",
        "outputId": "577c94e2-9b37-402e-8ece-2178a0aed3e3"
      },
      "outputs": [
        {
          "data": {
            "text/plain": [
              "array([[8, 4, 2, 4, 6],\n",
              "       [5, 6, 4, 2, 9],\n",
              "       [8, 0, 0, 3, 6]])"
            ]
          },
          "execution_count": 81,
          "metadata": {},
          "output_type": "execute_result"
        }
      ],
      "source": [
        "m = np.random.randint(10, size = (3,5))\n",
        "m"
      ]
    },
    {
      "cell_type": "code",
      "execution_count": null,
      "metadata": {
        "id": "obUOIaAHx_pB"
      },
      "outputs": [],
      "source": [
        "# code here"
      ]
    },
    {
      "cell_type": "code",
      "execution_count": null,
      "metadata": {
        "id": "8ls0Eh84x_pB",
        "outputId": "61ab9518-7f62-4264-8d00-dbec658750e1"
      },
      "outputs": [
        {
          "data": {
            "text/plain": [
              "8"
            ]
          },
          "execution_count": 82,
          "metadata": {},
          "output_type": "execute_result"
        }
      ],
      "source": [
        ""
      ]
    },
    {
      "cell_type": "code",
      "execution_count": null,
      "metadata": {
        "id": "0JwHAosgx_pB"
      },
      "outputs": [],
      "source": [
        "# code here"
      ]
    },
    {
      "cell_type": "code",
      "execution_count": null,
      "metadata": {
        "id": "3xefepPqx_pC",
        "outputId": "37034bb8-01e1-430c-d268-844385279458"
      },
      "outputs": [
        {
          "data": {
            "text/plain": [
              "6"
            ]
          },
          "execution_count": 83,
          "metadata": {},
          "output_type": "execute_result"
        }
      ],
      "source": [
        ""
      ]
    },
    {
      "cell_type": "code",
      "execution_count": null,
      "metadata": {
        "id": "PNYIT57mx_pC"
      },
      "outputs": [],
      "source": [
        "# code here"
      ]
    },
    {
      "cell_type": "code",
      "execution_count": null,
      "metadata": {
        "id": "m3OucsTTx_pC",
        "outputId": "7abb0761-fe1a-4271-ee6f-920c67440e4b"
      },
      "outputs": [
        {
          "data": {
            "text/plain": [
              "9"
            ]
          },
          "execution_count": 84,
          "metadata": {},
          "output_type": "execute_result"
        }
      ],
      "source": [
        "m[1, 4]"
      ]
    },
    {
      "cell_type": "code",
      "execution_count": null,
      "metadata": {
        "id": "3TuXAqxcx_pC"
      },
      "outputs": [],
      "source": [
        "# code here (look at the below array)"
      ]
    },
    {
      "cell_type": "code",
      "execution_count": null,
      "metadata": {
        "id": "mPLtHSOYx_pC",
        "outputId": "64c3db2f-1b08-4467-8a2c-6ea77d050185"
      },
      "outputs": [
        {
          "data": {
            "text/plain": [
              "array([[ 8,  4,  2,  4,  6],\n",
              "       [ 5,  6,  4,  2, 99],\n",
              "       [ 8,  0,  0,  3,  6]])"
            ]
          },
          "execution_count": 86,
          "metadata": {},
          "output_type": "execute_result"
        }
      ],
      "source": [
        "m"
      ]
    },
    {
      "cell_type": "code",
      "execution_count": null,
      "metadata": {
        "id": "KPYB2_W1x_pC"
      },
      "outputs": [],
      "source": [
        "# code here"
      ]
    },
    {
      "cell_type": "code",
      "execution_count": null,
      "metadata": {
        "id": "Ga3TeyGHx_pC",
        "outputId": "d1c042b3-b86f-4a79-d033-2c7470cbf99b"
      },
      "outputs": [
        {
          "data": {
            "text/plain": [
              "3"
            ]
          },
          "execution_count": 87,
          "metadata": {},
          "output_type": "execute_result"
        }
      ],
      "source": [
        "m[2, 3]"
      ]
    },
    {
      "cell_type": "code",
      "execution_count": null,
      "metadata": {
        "id": "68XbBWz0x_pD"
      },
      "outputs": [],
      "source": [
        "# code here (look at the below array)"
      ]
    },
    {
      "cell_type": "code",
      "execution_count": null,
      "metadata": {
        "id": "M2XtAFTJx_pD",
        "outputId": "c1bd0f08-3004-4104-a2a1-d60c68888c5d"
      },
      "outputs": [
        {
          "data": {
            "text/plain": [
              "array([[  8,   4,   2,   4,   6],\n",
              "       [  5,   6,   4,   2,  99],\n",
              "       [  8,   0,   0, 111,   6]])"
            ]
          },
          "execution_count": 89,
          "metadata": {},
          "output_type": "execute_result"
        }
      ],
      "source": [
        "m"
      ]
    },
    {
      "cell_type": "markdown",
      "metadata": {
        "id": "hA1nmW7Vx_pD"
      },
      "source": [
        "# Slicing ile Elemanlara Erişmek (Array Alt Kümesine Erişmek)"
      ]
    },
    {
      "cell_type": "code",
      "execution_count": null,
      "metadata": {
        "id": "cqDmOhDDx_pD"
      },
      "outputs": [],
      "source": [
        "import numpy as np"
      ]
    },
    {
      "cell_type": "code",
      "execution_count": null,
      "metadata": {
        "id": "jgvxO4Xwx_pD",
        "outputId": "74416256-4e87-4801-8fb2-d368fb52e596"
      },
      "outputs": [
        {
          "data": {
            "text/plain": [
              "array([20, 21, 22, 23, 24, 25, 26, 27, 28, 29])"
            ]
          },
          "execution_count": 2,
          "metadata": {},
          "output_type": "execute_result"
        }
      ],
      "source": [
        "a = np.arange(20,30)\n",
        "a"
      ]
    },
    {
      "cell_type": "code",
      "execution_count": null,
      "metadata": {
        "id": "PqhVjEQdx_pE"
      },
      "outputs": [],
      "source": [
        "# code here"
      ]
    },
    {
      "cell_type": "code",
      "execution_count": null,
      "metadata": {
        "id": "1ISqmmL_x_pE",
        "outputId": "e99de13f-bfba-46ba-b219-314ee2b2b778"
      },
      "outputs": [
        {
          "data": {
            "text/plain": [
              "array([20, 21, 22])"
            ]
          },
          "execution_count": 217,
          "metadata": {},
          "output_type": "execute_result"
        }
      ],
      "source": [
        ""
      ]
    },
    {
      "cell_type": "code",
      "execution_count": null,
      "metadata": {
        "id": "sYVNTfjjx_pE"
      },
      "outputs": [],
      "source": [
        "# code here"
      ]
    },
    {
      "cell_type": "code",
      "execution_count": null,
      "metadata": {
        "id": "Q8AP-Naix_pE",
        "outputId": "804811a7-9784-4b31-c5b6-c455b3bacd45"
      },
      "outputs": [
        {
          "data": {
            "text/plain": [
              "array([20, 21, 22])"
            ]
          },
          "execution_count": 218,
          "metadata": {},
          "output_type": "execute_result"
        }
      ],
      "source": [
        ""
      ]
    },
    {
      "cell_type": "code",
      "execution_count": null,
      "metadata": {
        "id": "FJsCWjMHx_pE"
      },
      "outputs": [],
      "source": [
        "# code here"
      ]
    },
    {
      "cell_type": "code",
      "execution_count": null,
      "metadata": {
        "id": "5yjJ1FgFx_pE",
        "outputId": "f79f2731-0e1d-4b83-f575-e731f623c824"
      },
      "outputs": [
        {
          "data": {
            "text/plain": [
              "array([23, 24, 25, 26, 27, 28, 29])"
            ]
          },
          "execution_count": 219,
          "metadata": {},
          "output_type": "execute_result"
        }
      ],
      "source": [
        ""
      ]
    },
    {
      "cell_type": "code",
      "execution_count": null,
      "metadata": {
        "id": "FceAkm0Jx_pE"
      },
      "outputs": [],
      "source": [
        "# code here"
      ]
    },
    {
      "cell_type": "code",
      "execution_count": null,
      "metadata": {
        "id": "NoHgXyb5x_pF",
        "outputId": "e4b607e8-5205-4d88-afb0-8aa4b12812b6"
      },
      "outputs": [
        {
          "data": {
            "text/plain": [
              "array([21, 23, 25, 27, 29])"
            ]
          },
          "execution_count": 220,
          "metadata": {},
          "output_type": "execute_result"
        }
      ],
      "source": [
        ""
      ]
    },
    {
      "cell_type": "code",
      "execution_count": null,
      "metadata": {
        "id": "NLULR2T-x_pF"
      },
      "outputs": [],
      "source": [
        "# code here"
      ]
    },
    {
      "cell_type": "code",
      "execution_count": null,
      "metadata": {
        "id": "zvUAWNyVx_pF",
        "outputId": "0d9a42d5-583d-4b6c-db96-aa57d8813ea6"
      },
      "outputs": [
        {
          "data": {
            "text/plain": [
              "array([20, 22, 24, 26, 28])"
            ]
          },
          "execution_count": 221,
          "metadata": {},
          "output_type": "execute_result"
        }
      ],
      "source": [
        ""
      ]
    },
    {
      "cell_type": "code",
      "execution_count": null,
      "metadata": {
        "id": "-FPkNln_x_pF"
      },
      "outputs": [],
      "source": [
        "# code here"
      ]
    },
    {
      "cell_type": "code",
      "execution_count": null,
      "metadata": {
        "id": "aQfIVaJ-x_pF",
        "outputId": "fb1ed71d-d3d8-4d22-da70-a55a6c6a6237"
      },
      "outputs": [
        {
          "data": {
            "text/plain": [
              "array([22, 24, 26, 28])"
            ]
          },
          "execution_count": 222,
          "metadata": {},
          "output_type": "execute_result"
        }
      ],
      "source": [
        ""
      ]
    },
    {
      "cell_type": "code",
      "execution_count": null,
      "metadata": {
        "id": "MYYz4V59x_pF"
      },
      "outputs": [],
      "source": [
        "# code here"
      ]
    },
    {
      "cell_type": "code",
      "execution_count": null,
      "metadata": {
        "id": "OYPuA0YZx_pF",
        "outputId": "c785d54f-1ce5-475d-fa07-f2a8ed62fb7f"
      },
      "outputs": [
        {
          "data": {
            "text/plain": [
              "array([20, 23, 26, 29])"
            ]
          },
          "execution_count": 223,
          "metadata": {},
          "output_type": "execute_result"
        }
      ],
      "source": [
        ""
      ]
    },
    {
      "cell_type": "code",
      "execution_count": null,
      "metadata": {
        "id": "345gpeUOx_pF"
      },
      "outputs": [],
      "source": [
        "#iki boyutlu slice islemleri"
      ]
    },
    {
      "cell_type": "code",
      "execution_count": null,
      "metadata": {
        "id": "h4DhmMS3x_pG"
      },
      "outputs": [],
      "source": [
        "m = np.random.randint(10, size = (5,5))"
      ]
    },
    {
      "cell_type": "code",
      "execution_count": null,
      "metadata": {
        "id": "zv0OhUnyx_pG",
        "outputId": "11f18295-0bcf-4ac8-98ec-09784f9edbec"
      },
      "outputs": [
        {
          "data": {
            "text/plain": [
              "array([[2, 1, 8, 3, 8],\n",
              "       [4, 3, 2, 3, 5],\n",
              "       [5, 9, 3, 1, 3],\n",
              "       [3, 1, 6, 9, 4],\n",
              "       [6, 0, 9, 9, 0]])"
            ]
          },
          "execution_count": 96,
          "metadata": {},
          "output_type": "execute_result"
        }
      ],
      "source": [
        "m"
      ]
    },
    {
      "cell_type": "code",
      "execution_count": null,
      "metadata": {
        "id": "SxxLnkZlx_pG"
      },
      "outputs": [],
      "source": [
        "# code here"
      ]
    },
    {
      "cell_type": "code",
      "execution_count": null,
      "metadata": {
        "id": "gzJBrLhMx_pG",
        "outputId": "49a280de-228d-447d-9524-74d4e2f4d1bf"
      },
      "outputs": [
        {
          "data": {
            "text/plain": [
              "array([2, 4, 5, 3, 6])"
            ]
          },
          "execution_count": 97,
          "metadata": {},
          "output_type": "execute_result"
        }
      ],
      "source": [
        ""
      ]
    },
    {
      "cell_type": "code",
      "execution_count": null,
      "metadata": {
        "id": "-NZROwnyx_pG"
      },
      "outputs": [],
      "source": [
        "# code here"
      ]
    },
    {
      "cell_type": "code",
      "execution_count": null,
      "metadata": {
        "id": "oR_znIonx_pG",
        "outputId": "f20f034a-9a72-4e00-8f63-e407260b5307"
      },
      "outputs": [
        {
          "data": {
            "text/plain": [
              "array([1, 3, 9, 1, 0])"
            ]
          },
          "execution_count": 98,
          "metadata": {},
          "output_type": "execute_result"
        }
      ],
      "source": [
        ""
      ]
    },
    {
      "cell_type": "code",
      "execution_count": null,
      "metadata": {
        "id": "FQqk3BOSx_pG"
      },
      "outputs": [],
      "source": [
        "# code here"
      ]
    },
    {
      "cell_type": "code",
      "execution_count": null,
      "metadata": {
        "id": "hL5dwimxx_pG",
        "outputId": "1f4a8144-ff59-44a0-e3b2-151051972c50"
      },
      "outputs": [
        {
          "data": {
            "text/plain": [
              "array([8, 5, 3, 4, 0])"
            ]
          },
          "execution_count": 99,
          "metadata": {},
          "output_type": "execute_result"
        }
      ],
      "source": [
        ""
      ]
    },
    {
      "cell_type": "code",
      "execution_count": null,
      "metadata": {
        "id": "PAu-VAlTx_pH",
        "outputId": "44908307-1a37-44fc-d3cd-4f0f789724e5"
      },
      "outputs": [
        {
          "data": {
            "text/plain": [
              "array([[2, 1, 8, 3, 8],\n",
              "       [4, 3, 2, 3, 5],\n",
              "       [5, 9, 3, 1, 3],\n",
              "       [3, 1, 6, 9, 4],\n",
              "       [6, 0, 9, 9, 0]])"
            ]
          },
          "execution_count": 100,
          "metadata": {},
          "output_type": "execute_result"
        }
      ],
      "source": [
        "m"
      ]
    },
    {
      "cell_type": "code",
      "execution_count": null,
      "metadata": {
        "id": "-HiMHvynx_pH"
      },
      "outputs": [],
      "source": [
        "# code here"
      ]
    },
    {
      "cell_type": "code",
      "execution_count": null,
      "metadata": {
        "id": "htUivQHPx_pH",
        "outputId": "e312308a-808b-473a-8197-c2dff6930107"
      },
      "outputs": [
        {
          "data": {
            "text/plain": [
              "array([2, 1, 8, 3, 8])"
            ]
          },
          "execution_count": 101,
          "metadata": {},
          "output_type": "execute_result"
        }
      ],
      "source": [
        ""
      ]
    },
    {
      "cell_type": "code",
      "execution_count": null,
      "metadata": {
        "id": "vcWqZGwox_pH"
      },
      "outputs": [],
      "source": [
        "# code here"
      ]
    },
    {
      "cell_type": "code",
      "execution_count": null,
      "metadata": {
        "id": "b5tiQ2r2x_pH",
        "outputId": "75a1967d-89d2-4fda-9af2-03b4e67b16ee"
      },
      "outputs": [
        {
          "data": {
            "text/plain": [
              "array([2, 1, 8, 3, 8])"
            ]
          },
          "execution_count": 102,
          "metadata": {},
          "output_type": "execute_result"
        }
      ],
      "source": [
        ""
      ]
    },
    {
      "cell_type": "code",
      "execution_count": null,
      "metadata": {
        "id": "0zEeGXrNx_pH"
      },
      "outputs": [],
      "source": [
        "# code here"
      ]
    },
    {
      "cell_type": "code",
      "execution_count": null,
      "metadata": {
        "id": "KpnVKRMgx_pH",
        "outputId": "6b0dd5bc-6216-4b1b-9cc5-ab964835a5ba"
      },
      "outputs": [
        {
          "data": {
            "text/plain": [
              "array([4, 3, 2, 3, 5])"
            ]
          },
          "execution_count": 104,
          "metadata": {},
          "output_type": "execute_result"
        }
      ],
      "source": [
        ""
      ]
    },
    {
      "cell_type": "code",
      "execution_count": null,
      "metadata": {
        "id": "15F3Vvwux_pI"
      },
      "outputs": [],
      "source": [
        "# code here"
      ]
    },
    {
      "cell_type": "code",
      "execution_count": null,
      "metadata": {
        "id": "X5ks2pOIx_pI",
        "outputId": "73e1d624-220e-491e-82e8-93c4a98731f2"
      },
      "outputs": [
        {
          "data": {
            "text/plain": [
              "array([[2, 1, 8],\n",
              "       [4, 3, 2]])"
            ]
          },
          "execution_count": 105,
          "metadata": {},
          "output_type": "execute_result"
        }
      ],
      "source": [
        ""
      ]
    },
    {
      "cell_type": "code",
      "execution_count": null,
      "metadata": {
        "id": "5BbSOJgex_pI"
      },
      "outputs": [],
      "source": [
        "# code here"
      ]
    },
    {
      "cell_type": "code",
      "execution_count": null,
      "metadata": {
        "id": "-NzlfyTdx_pI",
        "outputId": "3b8ade13-7327-4ec7-89d2-ecc69b8143b8"
      },
      "outputs": [
        {
          "data": {
            "text/plain": [
              "array([[2, 1],\n",
              "       [4, 3],\n",
              "       [5, 9],\n",
              "       [3, 1],\n",
              "       [6, 0]])"
            ]
          },
          "execution_count": 106,
          "metadata": {},
          "output_type": "execute_result"
        }
      ],
      "source": [
        ""
      ]
    },
    {
      "cell_type": "code",
      "execution_count": null,
      "metadata": {
        "id": "jcy6xgY3x_pI",
        "outputId": "c0b90290-b7e2-4fa6-c003-c6ed567f4577"
      },
      "outputs": [
        {
          "data": {
            "text/plain": [
              "array([[2, 1, 8, 3, 8],\n",
              "       [4, 3, 2, 3, 5],\n",
              "       [5, 9, 3, 1, 3],\n",
              "       [3, 1, 6, 9, 4],\n",
              "       [6, 0, 9, 9, 0]])"
            ]
          },
          "execution_count": 107,
          "metadata": {},
          "output_type": "execute_result"
        }
      ],
      "source": [
        "m"
      ]
    },
    {
      "cell_type": "code",
      "execution_count": null,
      "metadata": {
        "id": "XlH8e_mKx_pI"
      },
      "outputs": [],
      "source": [
        "# code here"
      ]
    },
    {
      "cell_type": "code",
      "execution_count": null,
      "metadata": {
        "id": "dianmjKWx_pI",
        "outputId": "5b525745-e602-46ee-de0f-232410dce989"
      },
      "outputs": [
        {
          "data": {
            "text/plain": [
              "array([[4, 3],\n",
              "       [5, 9]])"
            ]
          },
          "execution_count": 108,
          "metadata": {},
          "output_type": "execute_result"
        }
      ],
      "source": [
        ""
      ]
    },
    {
      "cell_type": "markdown",
      "metadata": {
        "id": "K1PIEqJrx_pJ"
      },
      "source": [
        "# Alt Küme Üzerinde İşlem Yapmak"
      ]
    },
    {
      "cell_type": "code",
      "execution_count": null,
      "metadata": {
        "id": "wg0HGjijx_pJ",
        "outputId": "67352aab-ef59-4b24-988a-dfdfc951541b"
      },
      "outputs": [
        {
          "data": {
            "text/plain": [
              "array([[3, 5, 0, 7, 2],\n",
              "       [8, 5, 4, 6, 1],\n",
              "       [9, 0, 5, 9, 5],\n",
              "       [7, 6, 6, 6, 3],\n",
              "       [4, 3, 8, 7, 6]])"
            ]
          },
          "execution_count": 109,
          "metadata": {},
          "output_type": "execute_result"
        }
      ],
      "source": [
        "import numpy as np\n",
        "a = np.random.randint(10, size = (5, 5))\n",
        "a"
      ]
    },
    {
      "cell_type": "code",
      "execution_count": null,
      "metadata": {
        "id": "SNqwMgS3x_pJ"
      },
      "outputs": [],
      "source": [
        "# code here"
      ]
    },
    {
      "cell_type": "code",
      "execution_count": null,
      "metadata": {
        "id": "HgDuK4e7x_pJ",
        "outputId": "3ed9c030-d961-4577-88e3-6e500fa8bffb"
      },
      "outputs": [
        {
          "data": {
            "text/plain": [
              "array([[3, 5],\n",
              "       [8, 5],\n",
              "       [9, 0]])"
            ]
          },
          "execution_count": 111,
          "metadata": {},
          "output_type": "execute_result"
        }
      ],
      "source": [
        ""
      ]
    },
    {
      "cell_type": "code",
      "execution_count": null,
      "metadata": {
        "id": "EXOjqPHux_pJ"
      },
      "outputs": [],
      "source": [
        "# code here"
      ]
    },
    {
      "cell_type": "code",
      "execution_count": null,
      "metadata": {
        "id": "9K-y-2hmx_pJ",
        "outputId": "116c3b0b-6f62-4160-e2c2-8fc7e506dd04"
      },
      "outputs": [
        {
          "data": {
            "text/plain": [
              "array([[99999,     5],\n",
              "       [    8,   888],\n",
              "       [    9,     0]])"
            ]
          },
          "execution_count": 113,
          "metadata": {},
          "output_type": "execute_result"
        }
      ],
      "source": [
        ""
      ]
    },
    {
      "cell_type": "code",
      "execution_count": null,
      "metadata": {
        "id": "83ikAYjKx_pJ",
        "outputId": "cc40c4be-8be1-45b5-89df-8f925624f452"
      },
      "outputs": [
        {
          "data": {
            "text/plain": [
              "array([[99999,     5,     0,     7,     2],\n",
              "       [    8,   888,     4,     6,     1],\n",
              "       [    9,     0,     5,     9,     5],\n",
              "       [    7,     6,     6,     6,     3],\n",
              "       [    4,     3,     8,     7,     6]])"
            ]
          },
          "execution_count": 114,
          "metadata": {},
          "output_type": "execute_result"
        }
      ],
      "source": [
        "a"
      ]
    },
    {
      "cell_type": "code",
      "execution_count": null,
      "metadata": {
        "id": "znr5UHtSx_pK",
        "outputId": "ee63b30f-4c0b-410b-b059-7cab108a3572"
      },
      "outputs": [
        {
          "data": {
            "text/plain": [
              "array([[8, 1, 4, 0, 2],\n",
              "       [4, 0, 3, 0, 6],\n",
              "       [4, 1, 4, 0, 3],\n",
              "       [1, 8, 0, 8, 9],\n",
              "       [6, 0, 1, 2, 4]])"
            ]
          },
          "execution_count": 3,
          "metadata": {},
          "output_type": "execute_result"
        }
      ],
      "source": [
        "m = np.random.randint(10, size = (5, 5))\n",
        "m"
      ]
    },
    {
      "cell_type": "code",
      "execution_count": null,
      "metadata": {
        "id": "uKywFoadx_pK"
      },
      "outputs": [],
      "source": [
        "# code here"
      ]
    },
    {
      "cell_type": "code",
      "execution_count": null,
      "metadata": {
        "id": "EyhsQyP8x_pK",
        "outputId": "52e62737-bf33-43c6-ff03-2e9788cbc4fc"
      },
      "outputs": [
        {
          "data": {
            "text/plain": [
              "array([[7, 0],\n",
              "       [7, 5],\n",
              "       [7, 4]])"
            ]
          },
          "execution_count": 116,
          "metadata": {},
          "output_type": "execute_result"
        }
      ],
      "source": [
        ""
      ]
    },
    {
      "cell_type": "code",
      "execution_count": null,
      "metadata": {
        "id": "tbg-g3Dlx_pK"
      },
      "outputs": [],
      "source": [
        "# code here"
      ]
    },
    {
      "cell_type": "code",
      "execution_count": null,
      "metadata": {
        "id": "gYLnDNGux_pK",
        "outputId": "c3b4534b-6a6a-453c-b566-8cc73654b615"
      },
      "outputs": [
        {
          "data": {
            "text/plain": [
              "array([[9999,    0],\n",
              "       [   9,    3],\n",
              "       [   5,    1]])"
            ]
          },
          "execution_count": 246,
          "metadata": {},
          "output_type": "execute_result"
        }
      ],
      "source": [
        ""
      ]
    },
    {
      "cell_type": "code",
      "execution_count": null,
      "metadata": {
        "id": "89Y_0ZRXx_pK",
        "outputId": "e915881f-7b8f-4b34-802b-2e4ca2c6321a"
      },
      "outputs": [
        {
          "data": {
            "text/plain": [
              "array([[9, 0, 0, 8, 9],\n",
              "       [9, 3, 4, 1, 9],\n",
              "       [5, 1, 2, 1, 5],\n",
              "       [8, 2, 3, 8, 0],\n",
              "       [5, 7, 6, 3, 8]])"
            ]
          },
          "execution_count": 247,
          "metadata": {},
          "output_type": "execute_result"
        }
      ],
      "source": [
        "m"
      ]
    },
    {
      "cell_type": "markdown",
      "metadata": {
        "id": "vjwRXdAyx_pK"
      },
      "source": [
        "# Fancy Index ile Elemanlara Erişmek"
      ]
    },
    {
      "cell_type": "code",
      "execution_count": null,
      "metadata": {
        "id": "FQqRTIgUx_pL",
        "outputId": "ef4113d4-1020-44c4-c4ef-8569173a12d4"
      },
      "outputs": [
        {
          "data": {
            "text/plain": [
              "array([ 0,  3,  6,  9, 12, 15, 18, 21, 24, 27])"
            ]
          },
          "execution_count": 2,
          "metadata": {},
          "output_type": "execute_result"
        }
      ],
      "source": [
        "import numpy as np\n",
        "v = np.arange(0, 30, 3)\n",
        "v"
      ]
    },
    {
      "cell_type": "code",
      "execution_count": null,
      "metadata": {
        "id": "6oqxAZ8tx_pL"
      },
      "outputs": [],
      "source": [
        "# code here"
      ]
    },
    {
      "cell_type": "code",
      "execution_count": null,
      "metadata": {
        "id": "TUQPvoDCx_pL",
        "outputId": "39292c7c-413c-4237-ac3c-a40bfe4dfeba"
      },
      "outputs": [
        {
          "data": {
            "text/plain": [
              "3"
            ]
          },
          "execution_count": 249,
          "metadata": {},
          "output_type": "execute_result"
        }
      ],
      "source": [
        ""
      ]
    },
    {
      "cell_type": "code",
      "execution_count": null,
      "metadata": {
        "id": "Fml-_d6xx_pL"
      },
      "outputs": [],
      "source": [
        "# code here"
      ]
    },
    {
      "cell_type": "code",
      "execution_count": null,
      "metadata": {
        "id": "jpBKJUtNx_pL",
        "outputId": "8c9fa1a3-d338-420f-9432-c2103af2e9b5"
      },
      "outputs": [
        {
          "data": {
            "text/plain": [
              "9"
            ]
          },
          "execution_count": 250,
          "metadata": {},
          "output_type": "execute_result"
        }
      ],
      "source": [
        ""
      ]
    },
    {
      "cell_type": "code",
      "execution_count": null,
      "metadata": {
        "id": "qy1AfwWzx_pL"
      },
      "outputs": [],
      "source": [
        "# code here"
      ]
    },
    {
      "cell_type": "code",
      "execution_count": null,
      "metadata": {
        "id": "UdVbKsyvx_pM",
        "outputId": "c46dd36a-2704-4db3-a28c-ccd9d4efb2c0"
      },
      "outputs": [
        {
          "data": {
            "text/plain": [
              "15"
            ]
          },
          "execution_count": 251,
          "metadata": {},
          "output_type": "execute_result"
        }
      ],
      "source": [
        ""
      ]
    },
    {
      "cell_type": "code",
      "execution_count": null,
      "metadata": {
        "id": "DT_uCoiPx_pM"
      },
      "outputs": [],
      "source": [
        "# code here"
      ]
    },
    {
      "cell_type": "code",
      "execution_count": null,
      "metadata": {
        "id": "SI9MSBnzx_pM",
        "outputId": "fb257c0c-8355-4bc8-e6ee-bb2f956955dd"
      },
      "outputs": [
        {
          "data": {
            "text/plain": [
              "[3, 9, 15]"
            ]
          },
          "execution_count": 252,
          "metadata": {},
          "output_type": "execute_result"
        }
      ],
      "source": [
        ""
      ]
    },
    {
      "cell_type": "code",
      "execution_count": null,
      "metadata": {
        "id": "4vSi3Ncvx_pM"
      },
      "outputs": [],
      "source": [
        "al_getir = [1,3,5]"
      ]
    },
    {
      "cell_type": "code",
      "execution_count": null,
      "metadata": {
        "id": "optCkRjbx_pM",
        "outputId": "699b9694-d773-42a8-ee25-0c3ce645f4e4"
      },
      "outputs": [
        {
          "data": {
            "text/plain": [
              "array([ 0,  3,  6,  9, 12, 15, 18, 21, 24, 27])"
            ]
          },
          "execution_count": 254,
          "metadata": {},
          "output_type": "execute_result"
        }
      ],
      "source": [
        "v"
      ]
    },
    {
      "cell_type": "code",
      "execution_count": null,
      "metadata": {
        "id": "AxY8ULHBx_pN"
      },
      "outputs": [],
      "source": [
        "# code here"
      ]
    },
    {
      "cell_type": "code",
      "execution_count": null,
      "metadata": {
        "id": "JQ9OODBgx_pN",
        "outputId": "cce39c66-06e4-46e2-c39f-25d90a3fe508"
      },
      "outputs": [
        {
          "data": {
            "text/plain": [
              "array([ 3,  9, 15])"
            ]
          },
          "execution_count": 255,
          "metadata": {},
          "output_type": "execute_result"
        }
      ],
      "source": [
        ""
      ]
    },
    {
      "cell_type": "code",
      "execution_count": null,
      "metadata": {
        "id": "h0dVzFidx_pN"
      },
      "outputs": [],
      "source": [
        "#iki boyutta fancy"
      ]
    },
    {
      "cell_type": "code",
      "execution_count": null,
      "metadata": {
        "id": "84UywbwWx_pN"
      },
      "outputs": [],
      "source": [
        "m = np.arange(9).reshape((3,3))"
      ]
    },
    {
      "cell_type": "code",
      "execution_count": null,
      "metadata": {
        "id": "Zv1bZ-g7x_pN",
        "outputId": "ed6bc64d-b908-45d6-834c-4861be6a7a0d"
      },
      "outputs": [
        {
          "data": {
            "text/plain": [
              "array([[0, 1, 2],\n",
              "       [3, 4, 5],\n",
              "       [6, 7, 8]])"
            ]
          },
          "execution_count": 4,
          "metadata": {},
          "output_type": "execute_result"
        }
      ],
      "source": [
        "m"
      ]
    },
    {
      "cell_type": "code",
      "execution_count": null,
      "metadata": {
        "id": "Vvow25Gyx_pO"
      },
      "outputs": [],
      "source": [
        "satir = np.array([0,1])\n",
        "sutun = np.array([1,2])"
      ]
    },
    {
      "cell_type": "code",
      "execution_count": null,
      "metadata": {
        "id": "nrFsXj5Hx_pO",
        "outputId": "48ef4738-51a9-4e57-88e1-e81509f5cadc"
      },
      "outputs": [
        {
          "data": {
            "text/plain": [
              "array([1, 5])"
            ]
          },
          "execution_count": 6,
          "metadata": {},
          "output_type": "execute_result"
        }
      ],
      "source": [
        "m[satir, sutun]"
      ]
    },
    {
      "cell_type": "code",
      "execution_count": null,
      "metadata": {
        "id": "t0EQHn2xx_pO"
      },
      "outputs": [],
      "source": [
        "#basit index ile fancy index"
      ]
    },
    {
      "cell_type": "code",
      "execution_count": null,
      "metadata": {
        "id": "ZDTbYX_Xx_pO",
        "outputId": "f60b06be-b886-4951-f6fc-b6a56162c191"
      },
      "outputs": [
        {
          "data": {
            "text/plain": [
              "array([[0, 1, 2],\n",
              "       [3, 4, 5],\n",
              "       [6, 7, 8]])"
            ]
          },
          "execution_count": 7,
          "metadata": {},
          "output_type": "execute_result"
        }
      ],
      "source": [
        "m"
      ]
    },
    {
      "cell_type": "code",
      "execution_count": null,
      "metadata": {
        "id": "jsh1yuUGx_pO",
        "outputId": "e13480a7-d260-43dc-e5bd-04ec629b6613"
      },
      "outputs": [
        {
          "data": {
            "text/plain": [
              "array([1, 2])"
            ]
          },
          "execution_count": 8,
          "metadata": {},
          "output_type": "execute_result"
        }
      ],
      "source": [
        "m[0, [1,2]]"
      ]
    },
    {
      "cell_type": "code",
      "execution_count": null,
      "metadata": {
        "id": "gf5vHqKrx_pO"
      },
      "outputs": [],
      "source": [
        "#slice ile fancy"
      ]
    },
    {
      "cell_type": "code",
      "execution_count": null,
      "metadata": {
        "id": "rC1k-yHPx_pO",
        "outputId": "920dcfbc-cf11-4196-cfaf-a5668e86e22a"
      },
      "outputs": [
        {
          "data": {
            "text/plain": [
              "array([[1, 2],\n",
              "       [4, 5],\n",
              "       [7, 8]])"
            ]
          },
          "execution_count": 265,
          "metadata": {},
          "output_type": "execute_result"
        }
      ],
      "source": [
        "m[0:, [1,2]]"
      ]
    },
    {
      "cell_type": "markdown",
      "metadata": {
        "id": "L5n4Pff7x_pO"
      },
      "source": [
        "# Koşullu Eleman İşlemleri"
      ]
    },
    {
      "cell_type": "code",
      "execution_count": null,
      "metadata": {
        "id": "QJKaE_s_x_pP"
      },
      "outputs": [],
      "source": [
        "import numpy as np\n",
        "v = np.array([1, 2, 3, 4, 5])"
      ]
    },
    {
      "cell_type": "code",
      "execution_count": null,
      "metadata": {
        "id": "MtAxs-Wjx_pP",
        "outputId": "73d39aa6-79c2-4805-bbbf-bd7cfd6d835e"
      },
      "outputs": [
        {
          "data": {
            "text/plain": [
              "array([ True,  True, False, False, False])"
            ]
          },
          "execution_count": 267,
          "metadata": {},
          "output_type": "execute_result"
        }
      ],
      "source": [
        "v < 3"
      ]
    },
    {
      "cell_type": "code",
      "execution_count": null,
      "metadata": {
        "id": "LDZIvqu1x_pP",
        "outputId": "1de495ca-750e-4582-ab5d-244e8913ff30"
      },
      "outputs": [
        {
          "data": {
            "text/plain": [
              "array([1, 2])"
            ]
          },
          "execution_count": 268,
          "metadata": {},
          "output_type": "execute_result"
        }
      ],
      "source": [
        "v[v < 3]"
      ]
    },
    {
      "cell_type": "code",
      "execution_count": null,
      "metadata": {
        "id": "yYlbcYrax_pP"
      },
      "outputs": [],
      "source": [
        "# code here"
      ]
    },
    {
      "cell_type": "code",
      "execution_count": null,
      "metadata": {
        "id": "eA0a_vukx_pP"
      },
      "outputs": [],
      "source": [
        ""
      ]
    },
    {
      "cell_type": "code",
      "execution_count": null,
      "metadata": {
        "id": "3LQ7wyQdx_pP",
        "outputId": "f8a4356d-2711-4927-fc58-359774415380"
      },
      "outputs": [
        {
          "data": {
            "text/plain": [
              "array([4, 5])"
            ]
          },
          "execution_count": 269,
          "metadata": {},
          "output_type": "execute_result"
        }
      ],
      "source": [
        "v[v > 3]"
      ]
    },
    {
      "cell_type": "code",
      "execution_count": null,
      "metadata": {
        "id": "AkPXxz0vx_pP"
      },
      "outputs": [],
      "source": [
        "# code here"
      ]
    },
    {
      "cell_type": "code",
      "execution_count": null,
      "metadata": {
        "id": "eqHRc4qfx_pP",
        "outputId": "c8f53e45-f59c-4545-80fc-5e92e4948170"
      },
      "outputs": [
        {
          "data": {
            "text/plain": [
              "array([3, 4, 5])"
            ]
          },
          "execution_count": 270,
          "metadata": {},
          "output_type": "execute_result"
        }
      ],
      "source": [
        ""
      ]
    },
    {
      "cell_type": "code",
      "execution_count": null,
      "metadata": {
        "id": "AQxOzaLjx_pQ"
      },
      "outputs": [],
      "source": [
        "# code here"
      ]
    },
    {
      "cell_type": "code",
      "execution_count": null,
      "metadata": {
        "id": "JQm-XMMpx_pQ",
        "outputId": "7af3c85b-cb89-4ff0-c9d5-7cd852eeae92"
      },
      "outputs": [
        {
          "data": {
            "text/plain": [
              "array([1, 2, 3])"
            ]
          },
          "execution_count": 271,
          "metadata": {},
          "output_type": "execute_result"
        }
      ],
      "source": [
        ""
      ]
    },
    {
      "cell_type": "code",
      "execution_count": null,
      "metadata": {
        "id": "B2xKtx8Wx_pQ"
      },
      "outputs": [],
      "source": [
        "# code here"
      ]
    },
    {
      "cell_type": "code",
      "execution_count": null,
      "metadata": {
        "id": "LDi0Odgux_pQ",
        "outputId": "253f8711-2264-4f6d-fd0f-f190f17dd5ea"
      },
      "outputs": [
        {
          "data": {
            "text/plain": [
              "array([3])"
            ]
          },
          "execution_count": 272,
          "metadata": {},
          "output_type": "execute_result"
        }
      ],
      "source": [
        ""
      ]
    },
    {
      "cell_type": "code",
      "execution_count": null,
      "metadata": {
        "id": "LqKFFL-Rx_pQ"
      },
      "outputs": [],
      "source": [
        "# code here"
      ]
    },
    {
      "cell_type": "code",
      "execution_count": null,
      "metadata": {
        "id": "UJppWBdYx_pQ",
        "outputId": "e184e064-6dc8-455a-b1d8-12b413381ba6"
      },
      "outputs": [
        {
          "data": {
            "text/plain": [
              "array([1, 2, 4, 5])"
            ]
          },
          "execution_count": 273,
          "metadata": {},
          "output_type": "execute_result"
        }
      ],
      "source": [
        ""
      ]
    },
    {
      "cell_type": "code",
      "execution_count": null,
      "metadata": {
        "id": "OepywhxIx_pQ",
        "outputId": "8cf86281-ec23-4a44-90e2-78017ae3d9c8"
      },
      "outputs": [
        {
          "data": {
            "text/plain": [
              "array([1, 2, 3, 4, 5])"
            ]
          },
          "execution_count": 274,
          "metadata": {},
          "output_type": "execute_result"
        }
      ],
      "source": [
        "v"
      ]
    },
    {
      "cell_type": "code",
      "execution_count": null,
      "metadata": {
        "id": "JtcDa9Mux_pQ"
      },
      "outputs": [],
      "source": [
        "# code here"
      ]
    },
    {
      "cell_type": "code",
      "execution_count": null,
      "metadata": {
        "id": "HvRbdBmyx_pR",
        "outputId": "84ce7ba1-4730-4d54-847a-8cc13c062d51"
      },
      "outputs": [
        {
          "data": {
            "text/plain": [
              "array([ 2,  4,  6,  8, 10])"
            ]
          },
          "execution_count": 275,
          "metadata": {},
          "output_type": "execute_result"
        }
      ],
      "source": [
        ""
      ]
    },
    {
      "cell_type": "code",
      "execution_count": null,
      "metadata": {
        "id": "M4Gkfmacx_pR"
      },
      "outputs": [],
      "source": [
        "# code here"
      ]
    },
    {
      "cell_type": "code",
      "execution_count": null,
      "metadata": {
        "id": "LnVccR6Hx_pR",
        "outputId": "55af3cb4-71b2-428c-e532-1efdca8daa75"
      },
      "outputs": [
        {
          "data": {
            "text/plain": [
              "array([0.2, 0.4, 0.6, 0.8, 1. ])"
            ]
          },
          "execution_count": 276,
          "metadata": {},
          "output_type": "execute_result"
        }
      ],
      "source": [
        ""
      ]
    },
    {
      "cell_type": "code",
      "execution_count": null,
      "metadata": {
        "id": "di5j93TRx_pR"
      },
      "outputs": [],
      "source": [
        "# code here"
      ]
    },
    {
      "cell_type": "code",
      "execution_count": null,
      "metadata": {
        "id": "dMaK7VPIx_pR",
        "outputId": "275e7a8a-4795-4f35-b1da-f35e34c58e89"
      },
      "outputs": [
        {
          "data": {
            "text/plain": [
              "array([ 1,  4,  9, 16, 25], dtype=int32)"
            ]
          },
          "execution_count": 278,
          "metadata": {},
          "output_type": "execute_result"
        }
      ],
      "source": [
        ""
      ]
    },
    {
      "cell_type": "markdown",
      "metadata": {
        "id": "O2jbxL_px_pR"
      },
      "source": [
        "# Matematiksel İşlemler\n",
        "\n",
        "Bu bölüm bilgi ve tekrar maksatlı konulmuştur."
      ]
    },
    {
      "cell_type": "code",
      "execution_count": null,
      "metadata": {
        "id": "ZrcKXQPix_pR"
      },
      "outputs": [],
      "source": [
        "import numpy as np\n",
        "v = np.array([1, 2, 3, 4, 5])"
      ]
    },
    {
      "cell_type": "code",
      "execution_count": null,
      "metadata": {
        "id": "VXgLHqT4x_pR",
        "outputId": "38bbac52-b928-4171-b1c1-1c0ce80afee4"
      },
      "outputs": [
        {
          "data": {
            "text/plain": [
              "array([0, 1, 2, 3, 4])"
            ]
          },
          "execution_count": 280,
          "metadata": {},
          "output_type": "execute_result"
        }
      ],
      "source": [
        "v - 1"
      ]
    },
    {
      "cell_type": "code",
      "execution_count": null,
      "metadata": {
        "id": "7yxWyE5wx_pS",
        "outputId": "ca3735ef-e928-45af-a70c-bd4378129013"
      },
      "outputs": [
        {
          "data": {
            "text/plain": [
              "array([ 5, 10, 15, 20, 25])"
            ]
          },
          "execution_count": 281,
          "metadata": {},
          "output_type": "execute_result"
        }
      ],
      "source": [
        "v * 5"
      ]
    },
    {
      "cell_type": "code",
      "execution_count": null,
      "metadata": {
        "id": "ZeKsF9YNx_pS",
        "outputId": "59017e58-42c3-4c0d-ead8-2df6741a32eb"
      },
      "outputs": [
        {
          "data": {
            "text/plain": [
              "array([0.2, 0.4, 0.6, 0.8, 1. ])"
            ]
          },
          "execution_count": 282,
          "metadata": {},
          "output_type": "execute_result"
        }
      ],
      "source": [
        "v / 5"
      ]
    },
    {
      "cell_type": "code",
      "execution_count": null,
      "metadata": {
        "id": "SVPhpYRyx_pS"
      },
      "outputs": [],
      "source": [
        "#ufunc"
      ]
    },
    {
      "cell_type": "code",
      "execution_count": null,
      "metadata": {
        "id": "TPaWuiw4x_pS",
        "outputId": "f0a5fa56-4512-4e23-9d6c-343c691e94d5"
      },
      "outputs": [
        {
          "data": {
            "text/plain": [
              "array([0, 1, 2, 3, 4])"
            ]
          },
          "execution_count": 285,
          "metadata": {},
          "output_type": "execute_result"
        }
      ],
      "source": [
        "np.subtract(v, 1)"
      ]
    },
    {
      "cell_type": "code",
      "execution_count": null,
      "metadata": {
        "id": "lEpHFNq3x_pS",
        "outputId": "a3613f13-3a6f-4baf-99be-dda2b013d5b8"
      },
      "outputs": [
        {
          "data": {
            "text/plain": [
              "array([2, 3, 4, 5, 6])"
            ]
          },
          "execution_count": 286,
          "metadata": {},
          "output_type": "execute_result"
        }
      ],
      "source": [
        "np.add(v, 1)"
      ]
    },
    {
      "cell_type": "code",
      "execution_count": null,
      "metadata": {
        "id": "VozwE3nMx_pT",
        "outputId": "bbf406d5-719d-4ca0-c799-9672a3a04c53"
      },
      "outputs": [
        {
          "data": {
            "text/plain": [
              "array([ 4,  8, 12, 16, 20])"
            ]
          },
          "execution_count": 287,
          "metadata": {},
          "output_type": "execute_result"
        }
      ],
      "source": [
        "np.multiply(v,4)"
      ]
    },
    {
      "cell_type": "code",
      "execution_count": null,
      "metadata": {
        "id": "iQ0SYBVux_pT",
        "outputId": "00131d9a-13fe-4571-f9de-ac08d51fe8ac"
      },
      "outputs": [
        {
          "data": {
            "text/plain": [
              "array([0.33333333, 0.66666667, 1.        , 1.33333333, 1.66666667])"
            ]
          },
          "execution_count": 288,
          "metadata": {},
          "output_type": "execute_result"
        }
      ],
      "source": [
        "np.divide(v, 3)"
      ]
    },
    {
      "cell_type": "code",
      "execution_count": null,
      "metadata": {
        "id": "Rqx6bcaXx_pT",
        "outputId": "73ec4127-0742-4b8f-cc80-df7cbfe571a9"
      },
      "outputs": [
        {
          "data": {
            "text/plain": [
              "array([ 1,  4,  9, 16, 25], dtype=int32)"
            ]
          },
          "execution_count": 289,
          "metadata": {},
          "output_type": "execute_result"
        }
      ],
      "source": [
        "v**2"
      ]
    },
    {
      "cell_type": "code",
      "execution_count": null,
      "metadata": {
        "id": "lVxUJ0TDx_pT",
        "outputId": "2470c053-c285-4592-cde2-da66da37a629"
      },
      "outputs": [
        {
          "data": {
            "text/plain": [
              "array([  1,   8,  27,  64, 125], dtype=int32)"
            ]
          },
          "execution_count": 290,
          "metadata": {},
          "output_type": "execute_result"
        }
      ],
      "source": [
        "v**3"
      ]
    },
    {
      "cell_type": "code",
      "execution_count": null,
      "metadata": {
        "id": "kcCdyIq2x_pT",
        "outputId": "6f7ed845-49c7-4838-9895-75800dbbb22a"
      },
      "outputs": [
        {
          "data": {
            "text/plain": [
              "array([  1,   8,  27,  64, 125], dtype=int32)"
            ]
          },
          "execution_count": 291,
          "metadata": {},
          "output_type": "execute_result"
        }
      ],
      "source": [
        "np.power(v, 3)"
      ]
    },
    {
      "cell_type": "code",
      "execution_count": null,
      "metadata": {
        "id": "ahRCHunEx_pT",
        "outputId": "01e9e304-973b-41ef-f37a-131d7c72c666"
      },
      "outputs": [
        {
          "data": {
            "text/plain": [
              "array([1, 0, 1, 0, 1], dtype=int32)"
            ]
          },
          "execution_count": 292,
          "metadata": {},
          "output_type": "execute_result"
        }
      ],
      "source": [
        "v % 2"
      ]
    },
    {
      "cell_type": "code",
      "execution_count": null,
      "metadata": {
        "id": "1EbTChTdx_pU",
        "outputId": "3cf07474-97c8-41e4-fbfc-d92cdb827820"
      },
      "outputs": [
        {
          "data": {
            "text/plain": [
              "array([1, 0, 1, 0, 1], dtype=int32)"
            ]
          },
          "execution_count": 293,
          "metadata": {},
          "output_type": "execute_result"
        }
      ],
      "source": [
        "np.mod(v, 2)"
      ]
    },
    {
      "cell_type": "code",
      "execution_count": null,
      "metadata": {
        "id": "Fn3ebVGzx_pU",
        "outputId": "27a7ceee-674d-4d6f-9cc4-d2f78126d4ea"
      },
      "outputs": [
        {
          "data": {
            "text/plain": [
              "array([3])"
            ]
          },
          "execution_count": 294,
          "metadata": {},
          "output_type": "execute_result"
        }
      ],
      "source": [
        "np.absolute(np.array([-3]))"
      ]
    },
    {
      "cell_type": "code",
      "execution_count": null,
      "metadata": {
        "id": "EZSlR-9Wx_pU",
        "outputId": "b848d4bd-a12a-4da4-91f2-e92d02b81168"
      },
      "outputs": [
        {
          "data": {
            "text/plain": [
              "0.9589157234143065"
            ]
          },
          "execution_count": 295,
          "metadata": {},
          "output_type": "execute_result"
        }
      ],
      "source": [
        "np.sin(360)"
      ]
    },
    {
      "cell_type": "code",
      "execution_count": null,
      "metadata": {
        "id": "7wgHWosmx_pU",
        "outputId": "9ac5a90d-d849-480b-e100-967594507125"
      },
      "outputs": [
        {
          "data": {
            "text/plain": [
              "-0.5984600690578581"
            ]
          },
          "execution_count": 296,
          "metadata": {},
          "output_type": "execute_result"
        }
      ],
      "source": [
        "np.cos(180)"
      ]
    },
    {
      "cell_type": "code",
      "execution_count": null,
      "metadata": {
        "id": "EW5D_XYnx_pU"
      },
      "outputs": [],
      "source": [
        "v = np.array([1,2,3])"
      ]
    },
    {
      "cell_type": "code",
      "execution_count": null,
      "metadata": {
        "id": "XzY-e9XVx_pU",
        "outputId": "c262efb9-2e35-4d35-a857-18d56c02291a"
      },
      "outputs": [
        {
          "data": {
            "text/plain": [
              "array([0.        , 0.69314718, 1.09861229])"
            ]
          },
          "execution_count": 298,
          "metadata": {},
          "output_type": "execute_result"
        }
      ],
      "source": [
        "np.log(v)"
      ]
    },
    {
      "cell_type": "code",
      "execution_count": null,
      "metadata": {
        "id": "ZogukdYnx_pU",
        "outputId": "a371feaa-1bee-4ab6-8b7c-cd5255ee162f"
      },
      "outputs": [
        {
          "data": {
            "text/plain": [
              "array([0.       , 1.       , 1.5849625])"
            ]
          },
          "execution_count": 299,
          "metadata": {},
          "output_type": "execute_result"
        }
      ],
      "source": [
        "np.log2(v)"
      ]
    },
    {
      "cell_type": "code",
      "execution_count": null,
      "metadata": {
        "id": "vQag7YXix_pV",
        "outputId": "e0234343-7b18-4ae3-8a6b-f7b59882e46b"
      },
      "outputs": [
        {
          "data": {
            "text/plain": [
              "array([0.        , 0.30103   , 0.47712125])"
            ]
          },
          "execution_count": 300,
          "metadata": {},
          "output_type": "execute_result"
        }
      ],
      "source": [
        "np.log10(v)"
      ]
    },
    {
      "cell_type": "code",
      "execution_count": null,
      "metadata": {
        "id": "bEgWt5mBx_pV"
      },
      "outputs": [],
      "source": [
        "?np"
      ]
    },
    {
      "cell_type": "markdown",
      "metadata": {
        "id": "NVaXVGZJx_pV"
      },
      "source": [
        "# İstatistiksel Hesaplamalar"
      ]
    },
    {
      "cell_type": "code",
      "execution_count": null,
      "metadata": {
        "id": "TKMXvMTox_pV",
        "outputId": "f221ac72-7564-4434-eb19-0c7b9af3b5ff"
      },
      "outputs": [
        {
          "data": {
            "text/plain": [
              "array([1, 2, 3, 4, 5])"
            ]
          },
          "execution_count": 11,
          "metadata": {},
          "output_type": "execute_result"
        }
      ],
      "source": [
        "v"
      ]
    },
    {
      "cell_type": "code",
      "execution_count": null,
      "metadata": {
        "id": "QOwP8oeKx_pV",
        "outputId": "bc41c132-ae62-4c53-d093-d18bf8766658"
      },
      "outputs": [
        {
          "data": {
            "text/plain": [
              "2.0"
            ]
          },
          "execution_count": 304,
          "metadata": {},
          "output_type": "execute_result"
        }
      ],
      "source": [
        "np.mean(v)"
      ]
    },
    {
      "cell_type": "code",
      "execution_count": null,
      "metadata": {
        "id": "NvxhaPRLx_pV",
        "outputId": "429fd959-37e7-45bd-b069-368c21b190b1"
      },
      "outputs": [
        {
          "data": {
            "text/plain": [
              "6"
            ]
          },
          "execution_count": 305,
          "metadata": {},
          "output_type": "execute_result"
        }
      ],
      "source": [
        "v.sum()"
      ]
    },
    {
      "cell_type": "code",
      "execution_count": null,
      "metadata": {
        "id": "qOaf1ZDtx_pV",
        "outputId": "56c06bb2-f90b-4f67-c64e-c2545ec180b3"
      },
      "outputs": [
        {
          "data": {
            "text/plain": [
              "1"
            ]
          },
          "execution_count": 306,
          "metadata": {},
          "output_type": "execute_result"
        }
      ],
      "source": [
        "v.min()"
      ]
    },
    {
      "cell_type": "markdown",
      "metadata": {
        "id": "blf0pxh0x_pW"
      },
      "source": [
        "* np.mean(arr,axis=0) | Returns mean along specific axis\n",
        "\n",
        "* arr.sum() | Returns sum of arr\n",
        "\n",
        "* arr.min() | Returns minimum value of arr\n",
        "\n",
        "* arr.max(axis=0) | Returns maximum value of specific axis\n",
        "\n",
        "* np.var(arr) | Returns the variance of array\n",
        "\n",
        "* np.std(arr,axis=1) | Returns the standard deviation of specific axis\n",
        "\n",
        "* arr.corrcoef() | Returns correlation coefficient of array"
      ]
    },
    {
      "cell_type": "markdown",
      "metadata": {
        "id": "9eEeyjpSx_pW"
      },
      "source": [
        "# NumPy ile İki Bilinmeyenli Denklem Çözümü"
      ]
    },
    {
      "cell_type": "code",
      "execution_count": null,
      "metadata": {
        "id": "jG-M11hFx_pW"
      },
      "outputs": [],
      "source": [
        "import numpy as np"
      ]
    },
    {
      "cell_type": "markdown",
      "metadata": {
        "id": "UUcoFqY_x_pZ"
      },
      "source": [
        "**5 * x0 + x1 = 12  \n",
        "x0 + 3 * x1 = 10**"
      ]
    },
    {
      "cell_type": "code",
      "execution_count": null,
      "metadata": {
        "id": "YJlABubtx_pZ"
      },
      "outputs": [],
      "source": [
        "a = np.array([[5,1], [1,3]])\n",
        "b = np.array([12,10])"
      ]
    },
    {
      "cell_type": "code",
      "execution_count": null,
      "metadata": {
        "id": "zujt3SFQx_pZ",
        "outputId": "4a18d73f-1cbe-44d5-c5d8-7821f8edd4f7"
      },
      "outputs": [
        {
          "data": {
            "text/plain": [
              "array([[5, 1],\n",
              "       [1, 3]])"
            ]
          },
          "execution_count": 309,
          "metadata": {},
          "output_type": "execute_result"
        }
      ],
      "source": [
        "a"
      ]
    },
    {
      "cell_type": "code",
      "execution_count": null,
      "metadata": {
        "id": "ykNiaTidx_pZ",
        "outputId": "7c3617e5-3a12-4ffe-e08c-5e2be708a7c2"
      },
      "outputs": [
        {
          "data": {
            "text/plain": [
              "array([12, 10])"
            ]
          },
          "execution_count": 310,
          "metadata": {},
          "output_type": "execute_result"
        }
      ],
      "source": [
        "b"
      ]
    },
    {
      "cell_type": "code",
      "execution_count": null,
      "metadata": {
        "id": "hEaMg_Ayx_pa",
        "outputId": "f2d7f434-d23b-40c4-c0fd-23a056b4696a"
      },
      "outputs": [
        {
          "data": {
            "text/plain": [
              "array([1.85714286, 2.71428571])"
            ]
          },
          "execution_count": 311,
          "metadata": {},
          "output_type": "execute_result"
        }
      ],
      "source": [
        "x = np.linalg.solve(a, b)\n",
        "x"
      ]
    },
    {
      "cell_type": "code",
      "execution_count": null,
      "metadata": {
        "id": "w82IUVG-x_pa"
      },
      "outputs": [],
      "source": [
        ""
      ]
    }
  ],
  "metadata": {
    "kernelspec": {
      "display_name": "Python 3 (ipykernel)",
      "language": "python",
      "name": "python3"
    },
    "language_info": {
      "codemirror_mode": {
        "name": "ipython",
        "version": 3
      },
      "file_extension": ".py",
      "mimetype": "text/x-python",
      "name": "python",
      "nbconvert_exporter": "python",
      "pygments_lexer": "ipython3",
      "version": "3.8.12"
    },
    "colab": {
      "name": "06_Self_Study_NumPy_Exercise_Student.ipynb",
      "provenance": [],
      "include_colab_link": true
    }
  },
  "nbformat": 4,
  "nbformat_minor": 0
}