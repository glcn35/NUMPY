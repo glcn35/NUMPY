{
  "cells": [
    {
      "cell_type": "markdown",
      "metadata": {
        "id": "view-in-github",
        "colab_type": "text"
      },
      "source": [
        "<a href=\"https://colab.research.google.com/github/glcn35/NUMPY/blob/main/Why_Numpy_(Comparing_list_and_array_by_size_and_computation_time).ipynb\" target=\"_parent\"><img src=\"https://colab.research.google.com/assets/colab-badge.svg\" alt=\"Open In Colab\"/></a>"
      ]
    },
    {
      "cell_type": "markdown",
      "metadata": {
        "id": "y3XsCnc9jI-a"
      },
      "source": [
        "# Why Numpy?"
      ]
    },
    {
      "cell_type": "code",
      "execution_count": null,
      "metadata": {
        "id": "0GOgfEC-jI-f"
      },
      "outputs": [],
      "source": [
        "import numpy as np\n",
        "import time\n",
        "import sys"
      ]
    },
    {
      "cell_type": "code",
      "execution_count": null,
      "metadata": {
        "id": "BsKPP-SojI-h"
      },
      "outputs": [],
      "source": [
        "a = [1, 2, 3, 4]\n",
        "b = [2, 3, 4, 5]"
      ]
    },
    {
      "cell_type": "code",
      "execution_count": null,
      "metadata": {
        "id": "dRTgsAbGjI-h"
      },
      "outputs": [],
      "source": [
        "#a * b # Gives an error"
      ]
    },
    {
      "cell_type": "code",
      "execution_count": null,
      "metadata": {
        "id": "UmgX_z4XjI-h",
        "outputId": "997f3b7f-c004-470a-cd1b-bf06060bf388"
      },
      "outputs": [
        {
          "data": {
            "text/plain": [
              "[2, 6, 12, 20]"
            ]
          },
          "execution_count": 5,
          "metadata": {},
          "output_type": "execute_result"
        }
      ],
      "source": [
        "ab = []                        \n",
        "\n",
        "for i in range(0, len(a)):\n",
        "    ab.append(a[i]*b[i])\n",
        "\n",
        "ab"
      ]
    },
    {
      "cell_type": "code",
      "execution_count": null,
      "metadata": {
        "id": "RSmhRTPdjI-i"
      },
      "outputs": [],
      "source": [
        "a1 = np.array([1,2,3,4])\n",
        "b1 = np.array([2,3,4,5])"
      ]
    },
    {
      "cell_type": "code",
      "execution_count": null,
      "metadata": {
        "id": "eYN9P3grjI-j",
        "outputId": "b6456e88-ec1a-4fa6-cbc2-d9f870fdcab6"
      },
      "outputs": [
        {
          "data": {
            "text/plain": [
              "array([ 2,  6, 12, 20])"
            ]
          },
          "execution_count": 7,
          "metadata": {},
          "output_type": "execute_result"
        }
      ],
      "source": [
        "a1 * b1"
      ]
    },
    {
      "cell_type": "code",
      "execution_count": null,
      "metadata": {
        "id": "qfnqbC_OjI-j"
      },
      "outputs": [],
      "source": [
        "a1 = np.array([[1,2,3,4],[1,2,3,4],[2,3,4,5]])\n",
        "b1 = np.array([[2,3,4,5],[1,2,4,5],[1,2,3,4]])"
      ]
    },
    {
      "cell_type": "code",
      "execution_count": null,
      "metadata": {
        "id": "-CJkgpq2jI-k",
        "outputId": "69c6bf1e-0da6-46dc-fbb6-b82366111aa2"
      },
      "outputs": [
        {
          "data": {
            "text/plain": [
              "array([[1, 2, 3, 4],\n",
              "       [1, 2, 3, 4],\n",
              "       [2, 3, 4, 5]])"
            ]
          },
          "execution_count": 9,
          "metadata": {},
          "output_type": "execute_result"
        }
      ],
      "source": [
        "a1"
      ]
    },
    {
      "cell_type": "code",
      "execution_count": null,
      "metadata": {
        "id": "8NGJPiETjI-l",
        "outputId": "49dacf6c-4be6-4632-95af-a7a20af3e71f"
      },
      "outputs": [
        {
          "data": {
            "text/plain": [
              "array([[2, 3, 4, 5],\n",
              "       [1, 2, 4, 5],\n",
              "       [1, 2, 3, 4]])"
            ]
          },
          "execution_count": 10,
          "metadata": {},
          "output_type": "execute_result"
        }
      ],
      "source": [
        "b1"
      ]
    },
    {
      "cell_type": "code",
      "execution_count": null,
      "metadata": {
        "id": "oMKr_QvZjI-l",
        "outputId": "bbd6635f-9a93-408a-9a62-c202f0f2b622"
      },
      "outputs": [
        {
          "data": {
            "text/plain": [
              "array([[ 2,  6, 12, 20],\n",
              "       [ 1,  4, 12, 20],\n",
              "       [ 2,  6, 12, 20]])"
            ]
          },
          "execution_count": 11,
          "metadata": {},
          "output_type": "execute_result"
        }
      ],
      "source": [
        "a1*b1"
      ]
    },
    {
      "cell_type": "code",
      "execution_count": null,
      "metadata": {
        "id": "nq4w9QkvjI-l",
        "outputId": "a75e43f0-fc73-457e-82a8-a95fdd3f8f27"
      },
      "outputs": [
        {
          "data": {
            "text/plain": [
              "[[1, 2, 3], [4, 5, 6], [7, 8, 9]]"
            ]
          },
          "execution_count": 12,
          "metadata": {},
          "output_type": "execute_result"
        }
      ],
      "source": [
        "# Nested lists without NumPy.\n",
        "\n",
        "my_matrix = [[1,2,3],[4,5,6],[7,8,9]]\n",
        "my_matrix"
      ]
    },
    {
      "cell_type": "markdown",
      "metadata": {
        "id": "pGfyU361jI-m"
      },
      "source": [
        "### Comparing list and array by size"
      ]
    },
    {
      "cell_type": "code",
      "execution_count": null,
      "metadata": {
        "id": "_Az1HdYtjI-m",
        "outputId": "65b778a2-5849-4cb8-d636-442352a10d91"
      },
      "outputs": [
        {
          "name": "stdout",
          "output_type": "stream",
          "text": [
            "size of one item in list : 28\n",
            "size of all items in list : 28000\n",
            "------------------------------\n",
            "size of one item in array : 4\n",
            "size of all items in array : 4000\n"
          ]
        }
      ],
      "source": [
        "l = range(1000)\n",
        "print(\"size of one item in list :\", sys.getsizeof(5))\n",
        "print(\"size of all items in list :\", sys.getsizeof(5) * len(l))\n",
        "\n",
        "print(\"---\" * 10)\n",
        "\n",
        "a = np.arange(1000)\n",
        "print(\"size of one item in array :\", a.itemsize)\n",
        "print(\"size of all items in array :\", a.itemsize * a.size)"
      ]
    },
    {
      "cell_type": "markdown",
      "metadata": {
        "id": "2PmlQqeMjI-n"
      },
      "source": [
        "### Comparing list and array by computation time"
      ]
    },
    {
      "cell_type": "code",
      "execution_count": null,
      "metadata": {
        "id": "OzhkDY9NjI-n",
        "outputId": "65669cf7-feaa-478d-81c1-cefc79914be3"
      },
      "outputs": [
        {
          "name": "stdout",
          "output_type": "stream",
          "text": [
            "python list took:  315.6707286834717\n",
            "numpy took:  34.42096710205078\n"
          ]
        }
      ],
      "source": [
        "size = 1000000\n",
        "\n",
        "l1 = range(size)\n",
        "l2 = range(size)\n",
        "\n",
        "a1 = np.arange(size)\n",
        "a2 = np.arange(size)\n",
        "\n",
        "#python list\n",
        "start = time.time()\n",
        "result = [(x + y) for x, y in zip(l1, l2)]\n",
        "print(\"python list took: \", (time.time()-start) * 1000)\n",
        "\n",
        "# numpy array\n",
        "start = time.time()\n",
        "result = a1 + a2\n",
        "print(\"numpy took: \", (time.time()-start) * 1000)"
      ]
    },
    {
      "cell_type": "code",
      "execution_count": null,
      "metadata": {
        "id": "CgeQGevDjI-n"
      },
      "outputs": [],
      "source": [
        ""
      ]
    }
  ],
  "metadata": {
    "kernelspec": {
      "display_name": "Python 3",
      "language": "python",
      "name": "python3"
    },
    "language_info": {
      "codemirror_mode": {
        "name": "ipython",
        "version": 3
      },
      "file_extension": ".py",
      "mimetype": "text/x-python",
      "name": "python",
      "nbconvert_exporter": "python",
      "pygments_lexer": "ipython3",
      "version": "3.7.6"
    },
    "colab": {
      "name": "Why Numpy (Comparing list and array by size and computation time).ipynb",
      "provenance": [],
      "include_colab_link": true
    }
  },
  "nbformat": 4,
  "nbformat_minor": 0
}